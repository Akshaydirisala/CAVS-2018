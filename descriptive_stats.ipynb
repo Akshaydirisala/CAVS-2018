{
 "cells": [
  {
   "cell_type": "code",
   "execution_count": 45,
   "metadata": {
    "collapsed": true
   },
   "outputs": [],
   "source": [
    "import numpy as np\n",
    "import pandas as pd"
   ]
  },
  {
   "cell_type": "code",
   "execution_count": 46,
   "metadata": {
    "collapsed": true
   },
   "outputs": [],
   "source": [
    "cavs=pd.read_csv('C:/Users/adirisala/Downloads/CAVS_DATA.csv')"
   ]
  },
  {
   "cell_type": "code",
   "execution_count": 47,
   "metadata": {},
   "outputs": [
    {
     "data": {
      "text/html": [
       "<div>\n",
       "<style scoped>\n",
       "    .dataframe tbody tr th:only-of-type {\n",
       "        vertical-align: middle;\n",
       "    }\n",
       "\n",
       "    .dataframe tbody tr th {\n",
       "        vertical-align: top;\n",
       "    }\n",
       "\n",
       "    .dataframe thead th {\n",
       "        text-align: right;\n",
       "    }\n",
       "</style>\n",
       "<table border=\"1\" class=\"dataframe\">\n",
       "  <thead>\n",
       "    <tr style=\"text-align: right;\">\n",
       "      <th></th>\n",
       "      <th>jersey  number</th>\n",
       "      <th>PLAYER</th>\n",
       "      <th>GAME DATE</th>\n",
       "      <th>DAY</th>\n",
       "      <th>OPPONENT</th>\n",
       "      <th>HOMEGAME</th>\n",
       "      <th>PLAYER_POSITION</th>\n",
       "      <th>MIN</th>\n",
       "      <th>PTS</th>\n",
       "      <th>FGM</th>\n",
       "      <th>...</th>\n",
       "      <th>OFREB</th>\n",
       "      <th>DFREB</th>\n",
       "      <th>REB</th>\n",
       "      <th>AST</th>\n",
       "      <th>TOV</th>\n",
       "      <th>STL</th>\n",
       "      <th>BLKS</th>\n",
       "      <th>PF</th>\n",
       "      <th>DF</th>\n",
       "      <th>GAME_RESULT</th>\n",
       "    </tr>\n",
       "  </thead>\n",
       "  <tbody>\n",
       "    <tr>\n",
       "      <th>0</th>\n",
       "      <td>0</td>\n",
       "      <td>Kevin_Love</td>\n",
       "      <td>10/17/2017</td>\n",
       "      <td>TUESDAY</td>\n",
       "      <td>Boston_Celtics</td>\n",
       "      <td>1</td>\n",
       "      <td>F</td>\n",
       "      <td>28</td>\n",
       "      <td>15</td>\n",
       "      <td>4</td>\n",
       "      <td>...</td>\n",
       "      <td>3</td>\n",
       "      <td>8</td>\n",
       "      <td>11</td>\n",
       "      <td>0</td>\n",
       "      <td>0</td>\n",
       "      <td>0</td>\n",
       "      <td>2</td>\n",
       "      <td>3</td>\n",
       "      <td>2</td>\n",
       "      <td>1</td>\n",
       "    </tr>\n",
       "    <tr>\n",
       "      <th>1</th>\n",
       "      <td>1</td>\n",
       "      <td>Derrick_Rose</td>\n",
       "      <td>10/17/2017</td>\n",
       "      <td>TUESDAY</td>\n",
       "      <td>Boston_Celtics</td>\n",
       "      <td>1</td>\n",
       "      <td>G</td>\n",
       "      <td>31</td>\n",
       "      <td>14</td>\n",
       "      <td>5</td>\n",
       "      <td>...</td>\n",
       "      <td>1</td>\n",
       "      <td>3</td>\n",
       "      <td>4</td>\n",
       "      <td>2</td>\n",
       "      <td>2</td>\n",
       "      <td>0</td>\n",
       "      <td>0</td>\n",
       "      <td>2</td>\n",
       "      <td>-7</td>\n",
       "      <td>1</td>\n",
       "    </tr>\n",
       "    <tr>\n",
       "      <th>2</th>\n",
       "      <td>3</td>\n",
       "      <td>isahiah_Thomas</td>\n",
       "      <td>10/17/2017</td>\n",
       "      <td>TUESDAY</td>\n",
       "      <td>Boston_Celtics</td>\n",
       "      <td>1</td>\n",
       "      <td>G</td>\n",
       "      <td>0</td>\n",
       "      <td>0</td>\n",
       "      <td>0</td>\n",
       "      <td>...</td>\n",
       "      <td>0</td>\n",
       "      <td>0</td>\n",
       "      <td>0</td>\n",
       "      <td>0</td>\n",
       "      <td>0</td>\n",
       "      <td>0</td>\n",
       "      <td>0</td>\n",
       "      <td>0</td>\n",
       "      <td>0</td>\n",
       "      <td>1</td>\n",
       "    </tr>\n",
       "    <tr>\n",
       "      <th>3</th>\n",
       "      <td>4</td>\n",
       "      <td>Iman_Shumpert</td>\n",
       "      <td>10/17/2017</td>\n",
       "      <td>TUESDAY</td>\n",
       "      <td>Boston_Celtics</td>\n",
       "      <td>1</td>\n",
       "      <td>G</td>\n",
       "      <td>12</td>\n",
       "      <td>4</td>\n",
       "      <td>2</td>\n",
       "      <td>...</td>\n",
       "      <td>1</td>\n",
       "      <td>1</td>\n",
       "      <td>2</td>\n",
       "      <td>0</td>\n",
       "      <td>1</td>\n",
       "      <td>1</td>\n",
       "      <td>0</td>\n",
       "      <td>3</td>\n",
       "      <td>6</td>\n",
       "      <td>1</td>\n",
       "    </tr>\n",
       "    <tr>\n",
       "      <th>4</th>\n",
       "      <td>5</td>\n",
       "      <td>Jr.Smith</td>\n",
       "      <td>10/17/2017</td>\n",
       "      <td>TUESDAY</td>\n",
       "      <td>Boston_Celtics</td>\n",
       "      <td>1</td>\n",
       "      <td>GF</td>\n",
       "      <td>21</td>\n",
       "      <td>10</td>\n",
       "      <td>4</td>\n",
       "      <td>...</td>\n",
       "      <td>0</td>\n",
       "      <td>4</td>\n",
       "      <td>4</td>\n",
       "      <td>1</td>\n",
       "      <td>0</td>\n",
       "      <td>0</td>\n",
       "      <td>0</td>\n",
       "      <td>4</td>\n",
       "      <td>7</td>\n",
       "      <td>1</td>\n",
       "    </tr>\n",
       "  </tbody>\n",
       "</table>\n",
       "<p>5 rows × 28 columns</p>\n",
       "</div>"
      ],
      "text/plain": [
       "   jersey  number          PLAYER   GAME DATE      DAY        OPPONENT  \\\n",
       "0               0      Kevin_Love  10/17/2017  TUESDAY  Boston_Celtics   \n",
       "1               1    Derrick_Rose  10/17/2017  TUESDAY  Boston_Celtics   \n",
       "2               3  isahiah_Thomas  10/17/2017  TUESDAY  Boston_Celtics   \n",
       "3               4   Iman_Shumpert  10/17/2017  TUESDAY  Boston_Celtics   \n",
       "4               5        Jr.Smith  10/17/2017  TUESDAY  Boston_Celtics   \n",
       "\n",
       "   HOMEGAME PLAYER_POSITION  MIN  PTS  FGM     ...       OFREB  DFREB  REB  \\\n",
       "0         1               F   28   15    4     ...           3      8   11   \n",
       "1         1               G   31   14    5     ...           1      3    4   \n",
       "2         1               G    0    0    0     ...           0      0    0   \n",
       "3         1               G   12    4    2     ...           1      1    2   \n",
       "4         1              GF   21   10    4     ...           0      4    4   \n",
       "\n",
       "   AST  TOV  STL  BLKS  PF  DF  GAME_RESULT  \n",
       "0    0    0    0     2   3   2            1  \n",
       "1    2    2    0     0   2  -7            1  \n",
       "2    0    0    0     0   0   0            1  \n",
       "3    0    1    1     0   3   6            1  \n",
       "4    1    0    0     0   4   7            1  \n",
       "\n",
       "[5 rows x 28 columns]"
      ]
     },
     "execution_count": 47,
     "metadata": {},
     "output_type": "execute_result"
    }
   ],
   "source": [
    "cavs.head()"
   ]
  },
  {
   "cell_type": "code",
   "execution_count": 48,
   "metadata": {},
   "outputs": [
    {
     "data": {
      "text/plain": [
       "Index(['jersey  number', 'PLAYER', 'GAME DATE', 'DAY', 'OPPONENT', 'HOMEGAME',\n",
       "       'PLAYER_POSITION', 'MIN', 'PTS', 'FGM', 'FGA', 'FG%', '3PM', '3PA',\n",
       "       '3pt%', 'FTM', 'FTA', 'FT%', 'OFREB', 'DFREB', 'REB', 'AST', 'TOV',\n",
       "       'STL', 'BLKS', 'PF', 'DF', 'GAME_RESULT'],\n",
       "      dtype='object')"
      ]
     },
     "execution_count": 48,
     "metadata": {},
     "output_type": "execute_result"
    }
   ],
   "source": [
    "cavs.columns"
   ]
  },
  {
   "cell_type": "code",
   "execution_count": 50,
   "metadata": {},
   "outputs": [],
   "source": [
    "###FLOAT TO INTEGER\n",
    "cavs[['MIN','PTS','FGM','FGA','3PM','3PA','FTM','FTA','OFREB','DFREB','REB','AST','TOV','STL','BLKS']]=cavs[['MIN','PTS','FGM','FGA','3PM','3PA','FTM','FTA','OFREB','DFREB','REB','AST','TOV','STL','BLKS']].astype(int)"
   ]
  },
  {
   "cell_type": "code",
   "execution_count": 89,
   "metadata": {},
   "outputs": [
    {
     "data": {
      "text/html": [
       "<div>\n",
       "<style scoped>\n",
       "    .dataframe tbody tr th:only-of-type {\n",
       "        vertical-align: middle;\n",
       "    }\n",
       "\n",
       "    .dataframe tbody tr th {\n",
       "        vertical-align: top;\n",
       "    }\n",
       "\n",
       "    .dataframe thead th {\n",
       "        text-align: right;\n",
       "    }\n",
       "</style>\n",
       "<table border=\"1\" class=\"dataframe\">\n",
       "  <thead>\n",
       "    <tr style=\"text-align: right;\">\n",
       "      <th></th>\n",
       "      <th>jersey  number</th>\n",
       "      <th>GAME DATE</th>\n",
       "      <th>DAY</th>\n",
       "      <th>OPPONENT</th>\n",
       "      <th>HOMEGAME</th>\n",
       "      <th>PLAYER_POSITION</th>\n",
       "      <th>MIN</th>\n",
       "      <th>PTS</th>\n",
       "      <th>FGM</th>\n",
       "      <th>FGA</th>\n",
       "      <th>...</th>\n",
       "      <th>OFREB</th>\n",
       "      <th>DFREB</th>\n",
       "      <th>REB</th>\n",
       "      <th>AST</th>\n",
       "      <th>TOV</th>\n",
       "      <th>STL</th>\n",
       "      <th>BLKS</th>\n",
       "      <th>PF</th>\n",
       "      <th>DF</th>\n",
       "      <th>GAME_RESULT</th>\n",
       "    </tr>\n",
       "    <tr>\n",
       "      <th>PLAYER</th>\n",
       "      <th></th>\n",
       "      <th></th>\n",
       "      <th></th>\n",
       "      <th></th>\n",
       "      <th></th>\n",
       "      <th></th>\n",
       "      <th></th>\n",
       "      <th></th>\n",
       "      <th></th>\n",
       "      <th></th>\n",
       "      <th></th>\n",
       "      <th></th>\n",
       "      <th></th>\n",
       "      <th></th>\n",
       "      <th></th>\n",
       "      <th></th>\n",
       "      <th></th>\n",
       "      <th></th>\n",
       "      <th></th>\n",
       "      <th></th>\n",
       "      <th></th>\n",
       "    </tr>\n",
       "  </thead>\n",
       "  <tbody>\n",
       "    <tr>\n",
       "      <th>Kevin_Love</th>\n",
       "      <td>0</td>\n",
       "      <td>10/17/2017</td>\n",
       "      <td>TUESDAY</td>\n",
       "      <td>Boston_Celtics</td>\n",
       "      <td>1</td>\n",
       "      <td>F</td>\n",
       "      <td>28</td>\n",
       "      <td>15</td>\n",
       "      <td>4</td>\n",
       "      <td>9</td>\n",
       "      <td>...</td>\n",
       "      <td>3</td>\n",
       "      <td>8</td>\n",
       "      <td>11</td>\n",
       "      <td>0</td>\n",
       "      <td>0</td>\n",
       "      <td>0</td>\n",
       "      <td>2</td>\n",
       "      <td>3</td>\n",
       "      <td>2</td>\n",
       "      <td>1</td>\n",
       "    </tr>\n",
       "    <tr>\n",
       "      <th>Derrick_Rose</th>\n",
       "      <td>1</td>\n",
       "      <td>10/17/2017</td>\n",
       "      <td>TUESDAY</td>\n",
       "      <td>Boston_Celtics</td>\n",
       "      <td>1</td>\n",
       "      <td>G</td>\n",
       "      <td>31</td>\n",
       "      <td>14</td>\n",
       "      <td>5</td>\n",
       "      <td>14</td>\n",
       "      <td>...</td>\n",
       "      <td>1</td>\n",
       "      <td>3</td>\n",
       "      <td>4</td>\n",
       "      <td>2</td>\n",
       "      <td>2</td>\n",
       "      <td>0</td>\n",
       "      <td>0</td>\n",
       "      <td>2</td>\n",
       "      <td>-7</td>\n",
       "      <td>1</td>\n",
       "    </tr>\n",
       "    <tr>\n",
       "      <th>isahiah_Thomas</th>\n",
       "      <td>3</td>\n",
       "      <td>10/17/2017</td>\n",
       "      <td>TUESDAY</td>\n",
       "      <td>Boston_Celtics</td>\n",
       "      <td>1</td>\n",
       "      <td>G</td>\n",
       "      <td>0</td>\n",
       "      <td>0</td>\n",
       "      <td>0</td>\n",
       "      <td>0</td>\n",
       "      <td>...</td>\n",
       "      <td>0</td>\n",
       "      <td>0</td>\n",
       "      <td>0</td>\n",
       "      <td>0</td>\n",
       "      <td>0</td>\n",
       "      <td>0</td>\n",
       "      <td>0</td>\n",
       "      <td>0</td>\n",
       "      <td>0</td>\n",
       "      <td>1</td>\n",
       "    </tr>\n",
       "    <tr>\n",
       "      <th>Iman_Shumpert</th>\n",
       "      <td>4</td>\n",
       "      <td>10/17/2017</td>\n",
       "      <td>TUESDAY</td>\n",
       "      <td>Boston_Celtics</td>\n",
       "      <td>1</td>\n",
       "      <td>G</td>\n",
       "      <td>12</td>\n",
       "      <td>4</td>\n",
       "      <td>2</td>\n",
       "      <td>3</td>\n",
       "      <td>...</td>\n",
       "      <td>1</td>\n",
       "      <td>1</td>\n",
       "      <td>2</td>\n",
       "      <td>0</td>\n",
       "      <td>1</td>\n",
       "      <td>1</td>\n",
       "      <td>0</td>\n",
       "      <td>3</td>\n",
       "      <td>6</td>\n",
       "      <td>1</td>\n",
       "    </tr>\n",
       "    <tr>\n",
       "      <th>Jr.Smith</th>\n",
       "      <td>5</td>\n",
       "      <td>10/17/2017</td>\n",
       "      <td>TUESDAY</td>\n",
       "      <td>Boston_Celtics</td>\n",
       "      <td>1</td>\n",
       "      <td>GF</td>\n",
       "      <td>21</td>\n",
       "      <td>10</td>\n",
       "      <td>4</td>\n",
       "      <td>7</td>\n",
       "      <td>...</td>\n",
       "      <td>0</td>\n",
       "      <td>4</td>\n",
       "      <td>4</td>\n",
       "      <td>1</td>\n",
       "      <td>0</td>\n",
       "      <td>0</td>\n",
       "      <td>0</td>\n",
       "      <td>4</td>\n",
       "      <td>7</td>\n",
       "      <td>1</td>\n",
       "    </tr>\n",
       "  </tbody>\n",
       "</table>\n",
       "<p>5 rows × 27 columns</p>\n",
       "</div>"
      ],
      "text/plain": [
       "                jersey  number   GAME DATE      DAY        OPPONENT  HOMEGAME  \\\n",
       "PLAYER                                                                          \n",
       "Kevin_Love                   0  10/17/2017  TUESDAY  Boston_Celtics         1   \n",
       "Derrick_Rose                 1  10/17/2017  TUESDAY  Boston_Celtics         1   \n",
       "isahiah_Thomas               3  10/17/2017  TUESDAY  Boston_Celtics         1   \n",
       "Iman_Shumpert                4  10/17/2017  TUESDAY  Boston_Celtics         1   \n",
       "Jr.Smith                     5  10/17/2017  TUESDAY  Boston_Celtics         1   \n",
       "\n",
       "               PLAYER_POSITION  MIN  PTS  FGM  FGA     ...       OFREB  DFREB  \\\n",
       "PLAYER                                                 ...                      \n",
       "Kevin_Love                   F   28   15    4    9     ...           3      8   \n",
       "Derrick_Rose                 G   31   14    5   14     ...           1      3   \n",
       "isahiah_Thomas               G    0    0    0    0     ...           0      0   \n",
       "Iman_Shumpert                G   12    4    2    3     ...           1      1   \n",
       "Jr.Smith                    GF   21   10    4    7     ...           0      4   \n",
       "\n",
       "                REB  AST  TOV  STL  BLKS  PF  DF  GAME_RESULT  \n",
       "PLAYER                                                         \n",
       "Kevin_Love       11    0    0    0     2   3   2            1  \n",
       "Derrick_Rose      4    2    2    0     0   2  -7            1  \n",
       "isahiah_Thomas    0    0    0    0     0   0   0            1  \n",
       "Iman_Shumpert     2    0    1    1     0   3   6            1  \n",
       "Jr.Smith          4    1    0    0     0   4   7            1  \n",
       "\n",
       "[5 rows x 27 columns]"
      ]
     },
     "execution_count": 89,
     "metadata": {},
     "output_type": "execute_result"
    }
   ],
   "source": [
    "###INDEXING USING PLAYER\n",
    "cavaliers=cavs.set_index(\"PLAYER\")\n",
    "cavaliers.head()\n"
   ]
  },
  {
   "cell_type": "code",
   "execution_count": 93,
   "metadata": {},
   "outputs": [],
   "source": [
    "Kevin_Love=cavaliers.loc['Kevin_Love',:]\n",
    "Lebron_James=cavaliers.loc['Lebron_James',:]\n",
    "Dwyane_Wade=cavaliers.loc['Dwyane _Wade',:]\n",
    "Iman_Shumpert=cavaliers.loc['Iman_Shumpert',:]\n",
    "Jr_Smith=cavaliers.loc['Jr.Smith',:]\n",
    "Kyle_Korver=cavaliers.loc['Kyle_Korver',:]\n",
    "Derrick_Rose=cavaliers.loc['Derrick_Rose',:]\n",
    "Jae_Crowder=cavaliers.loc['Jae_Crowder',:]\n",
    "Jeff_Green=cavaliers.loc['Jeff_Green',:]\n",
    "Tristan_Thompson=cavaliers.loc['Tristan-Thompson',:]"
   ]
  },
  {
   "cell_type": "code",
   "execution_count": 108,
   "metadata": {
    "collapsed": true
   },
   "outputs": [],
   "source": [
    "##############################POINTS\n",
    "Kevin_Love_pts=Kevin_Love['PTS'].sum()\n",
    "Lebron_James_pts=Lebron_James['PTS'].sum()\n",
    "Dwyane_Wade_pts=Dwyane_Wade['PTS'].sum()\n",
    "Jr_Smith_pts=Jr_Smith['PTS'].sum()\n",
    "Kyle_Korver_pts=Kyle_Korver['PTS'].sum()\n",
    "Iman_Shumpert_pts=Iman_Shumpert['PTS'].sum()\n",
    "Derrick_Rose_pts=Derrick_Rose['PTS'].sum()\n",
    "Jae_Crowder_pts=Jae_Crowder['PTS'].sum()\n",
    "Jeff_Green_pts=Jeff_Green['PTS'].sum()\n",
    "Tristan_Thompson_pts=Tristan_Thompson['PTS'].sum()\n",
    "cavs_pts=cavaliers['PTS'].sum()\n"
   ]
  },
  {
   "cell_type": "code",
   "execution_count": 170,
   "metadata": {},
   "outputs": [
    {
     "data": {
      "image/png": "[encoded data removed]",
      "text/plain": [
       "<matplotlib.figure.Figure at 0x7022350>"
      ]
     },
     "metadata": {},
     "output_type": "display_data"
    }
   ],
   "source": [
    "import matplotlib.pyplot as plt\n",
    "players=('Kevin_Love','Lebron_James','Dwyane_Wade','Jr_Smith','Kyle_Korver','Iman_Shumpert','Derrick_Rose','Jae_Crowder','Jeff_Green','Tristan_Thompson')\n",
    "points=([Kevin_Love_pts,Lebron_James_pts,Dwyane_Wade_pts,Jr_Smith_pts,Kyle_Korver_pts,Iman_Shumpert_pts,Derrick_Rose_pts,Jae_Crowder_pts,Jeff_Green_pts,Tristan_Thompson_pts])\n",
    "plt.figure(figsize=(15, 5))\n",
    "plt.bar(players,points, align='center',width=0.6,color=('C0', 'C1', 'C2', 'C3', 'C4', 'C5', 'C6', 'C7', 'C8', 'C9'))\n",
    "plt.xlabel(\"CAVALIERS\")\n",
    "plt.ylabel('POINTS_SCORED')\n",
    "plt.title('TOTAL_POINTS')\n",
    "plt.show()"
   ]
  },
  {
   "cell_type": "code",
   "execution_count": 157,
   "metadata": {
    "collapsed": true
   },
   "outputs": [],
   "source": [
    "##############################3POINTS\n",
    "Kevin_Love_3pts=Kevin_Love['3PM'].sum()\n",
    "Lebron_James_3pts=Lebron_James['3PM'].sum()\n",
    "Dwyane_Wade_3pts=Dwyane_Wade['3PM'].sum()\n",
    "Jr_Smith_3pts=Jr_Smith['3PM'].sum()\n",
    "Kyle_Korver_3pts=Kyle_Korver['3PM'].sum()\n",
    "Iman_Shumpert_3pts=Iman_Shumpert['3PM'].sum()\n",
    "Derrick_Rose_3pts=Derrick_Rose['3PM'].sum()\n",
    "Jae_Crowder_3pts=Jae_Crowder['3PM'].sum()\n",
    "Jeff_Green_3pts=Jeff_Green['3PM'].sum()\n",
    "Tristan_Thompson_3pts=Tristan_Thompson['3PM'].sum()\n",
    "cavs_3pts=cavaliers['3PM'].sum()"
   ]
  },
  {
   "cell_type": "code",
   "execution_count": 171,
   "metadata": {},
   "outputs": [
    {
     "data": {
      "image/png": "[encoded data removed]",
      "text/plain": [
       "<matplotlib.figure.Figure at 0x6fe8950>"
      ]
     },
     "metadata": {},
     "output_type": "display_data"
    }
   ],
   "source": [
    "players=('Kevin_Love','Lebron_James','Dwyane_Wade','Jr_Smith','Kyle_Korver','Iman_Shumpert','Derrick_Rose','Jae_Crowder','Jeff_Green','Tristan_Thompson')\n",
    "points3=([Kevin_Love_3pts,Lebron_James_3pts,Dwyane_Wade_3pts,Jr_Smith_3pts,Kyle_Korver_3pts,Iman_Shumpert_3pts,Derrick_Rose_3pts,Jae_Crowder_3pts,Jeff_Green_3pts,Tristan_Thompson_3pts])\n",
    "plt.figure(figsize=(17, 5))\n",
    "plt.bar(players,points3, align='center',width=0.6,color=('C0', 'C1', 'C2', 'C3', 'C4', 'C5', 'C6', 'C7', 'C8', 'C9'))\n",
    "plt.xlabel(\"CAVALIERS\")\n",
    "plt.ylabel('3POINTS')\n",
    "plt.title('3POINTSMADE')\n",
    "plt.show()"
   ]
  },
  {
   "cell_type": "code",
   "execution_count": 159,
   "metadata": {
    "collapsed": true
   },
   "outputs": [],
   "source": [
    "##############################Assists\n",
    "Kevin_Love_AST=Kevin_Love['AST'].sum()\n",
    "Lebron_James_AST=Lebron_James['AST'].sum()\n",
    "Dwyane_Wade_AST=Dwyane_Wade['AST'].sum()\n",
    "Jr_Smith_AST=Jr_Smith['AST'].sum()\n",
    "Kyle_Korver_AST=Kyle_Korver['AST'].sum()\n",
    "Iman_Shumpert_AST=Iman_Shumpert['AST'].sum()\n",
    "Derrick_Rose_AST=Derrick_Rose['AST'].sum()\n",
    "Jae_Crowder_AST=Jae_Crowder['AST'].sum()\n",
    "Jeff_Green_AST=Jeff_Green['AST'].sum()\n",
    "Tristan_Thompson_AST=Tristan_Thompson['AST'].sum()\n",
    "cavs_AST=cavaliers['AST'].sum()"
   ]
  },
  {
   "cell_type": "code",
   "execution_count": 172,
   "metadata": {},
   "outputs": [
    {
     "data": {
      "image/png": "[encoded data removed]",
      "text/plain": [
       "<matplotlib.figure.Figure at 0x70ceb30>"
      ]
     },
     "metadata": {},
     "output_type": "display_data"
    }
   ],
   "source": [
    "players=('Kevin_Love','Lebron_James','Dwyane_Wade','Jr_Smith','Kyle_Korver','Iman_Shumpert','Derrick_Rose','Jae_Crowder','Jeff_Green','Tristan_Thompson')\n",
    "Assists=([Kevin_Love_AST,Lebron_James_AST,Dwyane_Wade_AST,Jr_Smith_AST,Kyle_Korver_AST,Iman_Shumpert_AST,Derrick_Rose_AST,Jae_Crowder_AST,Jeff_Green_AST,Tristan_Thompson_AST])\n",
    "plt.figure(figsize=(16, 5))\n",
    "plt.bar(players,Assists, align='center',width=0.6,color=('C0', 'C1', 'C2', 'C3', 'C4', 'C5', 'C6', 'C7', 'C8', 'C9'))\n",
    "plt.xlabel(\"CAVALIERS\")\n",
    "plt.ylabel('ASSISTS')\n",
    "plt.title('ASSISTS')\n",
    "plt.show()"
   ]
  },
  {
   "cell_type": "code",
   "execution_count": 161,
   "metadata": {
    "collapsed": true
   },
   "outputs": [],
   "source": [
    "##############################STEALS\n",
    "Kevin_Love_STL=Kevin_Love['STL'].sum()\n",
    "Lebron_James_STL=Lebron_James['STL'].sum()\n",
    "Dwyane_Wade_STL=Dwyane_Wade['STL'].sum()\n",
    "Jr_Smith_STL=Jr_Smith['STL'].sum()\n",
    "Kyle_Korver_STL=Kyle_Korver['STL'].sum()\n",
    "Iman_Shumpert_STL=Iman_Shumpert['STL'].sum()\n",
    "Derrick_Rose_STL=Derrick_Rose['STL'].sum()\n",
    "Jae_Crowder_STL=Jae_Crowder['STL'].sum()\n",
    "Jeff_Green_STL=Jeff_Green['STL'].sum()\n",
    "Tristan_Thompson_STL=Tristan_Thompson['STL'].sum()\n",
    "cavs_STL=cavaliers['STL'].sum()"
   ]
  },
  {
   "cell_type": "code",
   "execution_count": 174,
   "metadata": {},
   "outputs": [
    {
     "data": {
      "image/png": "[encoded data removed]",
      "text/plain": [
       "<matplotlib.figure.Figure at 0x6eef870>"
      ]
     },
     "metadata": {},
     "output_type": "display_data"
    }
   ],
   "source": [
    "players=('Kevin_Love','Lebron_James','Dwyane_Wade','Jr_Smith','Kyle_Korver','Iman_Shumpert','Derrick_Rose','Jae_Crowder','Jeff_Green','Tristan_Thompson')\n",
    "steals=([Kevin_Love_STL,Lebron_James_STL,Dwyane_Wade_STL,Jr_Smith_STL,Kyle_Korver_STL,Iman_Shumpert_STL,Derrick_Rose_STL,Jae_Crowder_STL,Jeff_Green_STL,Tristan_Thompson_STL])\n",
    "plt.figure(figsize=(17, 5))\n",
    "plt.bar(players,steals, align='center',width=0.6,color=('C0', 'C1', 'C2', 'C3', 'C4', 'C5', 'C6', 'C7', 'C8', 'C9'))\n",
    "plt.xlabel(\"CAVALIERS\")\n",
    "plt.ylabel('steals')\n",
    "plt.title('STEALS')\n",
    "plt.show()"
   ]
  },
  {
   "cell_type": "code",
   "execution_count": 165,
   "metadata": {
    "collapsed": true
   },
   "outputs": [],
   "source": [
    "#####################REBOUNDS\n",
    "Kevin_Love_REB=Kevin_Love['REB'].sum()\n",
    "Lebron_James_REB=Lebron_James['REB'].sum()\n",
    "Dwyane_Wade_REB=Dwyane_Wade['REB'].sum()\n",
    "Jr_Smith_REB=Jr_Smith['REB'].sum()\n",
    "Kyle_Korver_REB=Kyle_Korver['REB'].sum()\n",
    "Iman_Shumpert_REB=Iman_Shumpert['REB'].sum()\n",
    "Derrick_Rose_REB=Derrick_Rose['REB'].sum()\n",
    "Jae_Crowder_REB=Jae_Crowder['REB'].sum()\n",
    "Jeff_Green_REB=Jeff_Green['REB'].sum()\n",
    "Tristan_Thompson_REB=Tristan_Thompson['REB'].sum()\n",
    "cavs_REB=cavaliers['REB'].sum()"
   ]
  },
  {
   "cell_type": "code",
   "execution_count": 175,
   "metadata": {},
   "outputs": [
    {
     "data": {
      "image/png": "[encoded data removed]",
      "text/plain": [
       "<matplotlib.figure.Figure at 0x6eef030>"
      ]
     },
     "metadata": {},
     "output_type": "display_data"
    }
   ],
   "source": [
    "players=('Kevin_Love','Lebron_James','Dwyane_Wade','Jr_Smith','Kyle_Korver','Iman_Shumpert','Derrick_Rose','Jae_Crowder','Jeff_Green','Tristan_Thompson')\n",
    "Rebounds=([Kevin_Love_REB,Lebron_James_REB,Dwyane_Wade_REB,Jr_Smith_REB,Kyle_Korver_REB,Iman_Shumpert_REB,Derrick_Rose_REB,Jae_Crowder_REB,Jeff_Green_REB,Tristan_Thompson_REB])\n",
    "plt.figure(figsize=(17, 5))\n",
    "plt.bar(players,steals, align='center',width=0.6,color=('C0', 'C1', 'C2', 'C3', 'C4', 'C5', 'C6', 'C7', 'C8', 'C9'))\n",
    "plt.xlabel(\"CAVALIERS\")\n",
    "plt.ylabel('rebounds')\n",
    "plt.title('REBOUNDS')\n",
    "plt.show()"
   ]
  },
  {
   "cell_type": "code",
   "execution_count": null,
   "metadata": {
    "collapsed": true
   },
   "outputs": [],
   "source": []
  }
 ],
 "metadata": {
  "kernelspec": {
   "display_name": "Python 3",
   "language": "python",
   "name": "python3"
  },
  "language_info": {
   "codemirror_mode": {
    "name": "ipython",
    "version": 3
   },
   "file_extension": ".py",
   "mimetype": "text/x-python",
   "name": "python",
   "nbconvert_exporter": "python",
   "pygments_lexer": "ipython3",
   "version": "3.6.3"
  }
 },
 "nbformat": 4,
 "nbformat_minor": 2
}
