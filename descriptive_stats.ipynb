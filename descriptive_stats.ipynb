{
 "cells": [
  {
   "cell_type": "code",
   "execution_count": 109,
   "metadata": {
    "collapsed": true
   },
   "outputs": [],
   "source": [
    "import numpy as np\n",
    "import pandas as pd\n",
    "import matplotlib.pyplot as plt\n",
    "import seaborn as sns"
   ]
  },
  {
   "cell_type": "code",
   "execution_count": 110,
   "metadata": {
    "collapsed": true
   },
   "outputs": [],
   "source": [
    "cavs=pd.read_csv('C:/Users/aksha/Downloads/CAVS-2018-master/CAVS-2018-master/CAVS_DATA.csv')"
   ]
  },
  {
   "cell_type": "code",
   "execution_count": 111,
   "metadata": {},
   "outputs": [
    {
     "data": {
      "text/html": [
       "<div>\n",
       "<style>\n",
       "    .dataframe thead tr:only-child th {\n",
       "        text-align: right;\n",
       "    }\n",
       "\n",
       "    .dataframe thead th {\n",
       "        text-align: left;\n",
       "    }\n",
       "\n",
       "    .dataframe tbody tr th {\n",
       "        vertical-align: top;\n",
       "    }\n",
       "</style>\n",
       "<table border=\"1\" class=\"dataframe\">\n",
       "  <thead>\n",
       "    <tr style=\"text-align: right;\">\n",
       "      <th></th>\n",
       "      <th>jersey  number</th>\n",
       "      <th>PLAYER</th>\n",
       "      <th>GAME DATE</th>\n",
       "      <th>DAY</th>\n",
       "      <th>OPPONENT</th>\n",
       "      <th>HOMEGAME</th>\n",
       "      <th>MIN</th>\n",
       "      <th>PTS</th>\n",
       "      <th>FGM</th>\n",
       "      <th>FGA</th>\n",
       "      <th>...</th>\n",
       "      <th>OFREB</th>\n",
       "      <th>DFREB</th>\n",
       "      <th>REB</th>\n",
       "      <th>AST</th>\n",
       "      <th>TOV</th>\n",
       "      <th>STL</th>\n",
       "      <th>BLKS</th>\n",
       "      <th>PF</th>\n",
       "      <th>DF</th>\n",
       "      <th>GAME_RESULT</th>\n",
       "    </tr>\n",
       "  </thead>\n",
       "  <tbody>\n",
       "    <tr>\n",
       "      <th>0</th>\n",
       "      <td>0</td>\n",
       "      <td>Kevin_Love</td>\n",
       "      <td>10/17/2017</td>\n",
       "      <td>TUESDAY</td>\n",
       "      <td>Boston_Celtics</td>\n",
       "      <td>1</td>\n",
       "      <td>28</td>\n",
       "      <td>15</td>\n",
       "      <td>4</td>\n",
       "      <td>9</td>\n",
       "      <td>...</td>\n",
       "      <td>3</td>\n",
       "      <td>8</td>\n",
       "      <td>11</td>\n",
       "      <td>0</td>\n",
       "      <td>0</td>\n",
       "      <td>0</td>\n",
       "      <td>2</td>\n",
       "      <td>3</td>\n",
       "      <td>2</td>\n",
       "      <td>1</td>\n",
       "    </tr>\n",
       "    <tr>\n",
       "      <th>1</th>\n",
       "      <td>1</td>\n",
       "      <td>Derrick_Rose</td>\n",
       "      <td>10/17/2017</td>\n",
       "      <td>TUESDAY</td>\n",
       "      <td>Boston_Celtics</td>\n",
       "      <td>1</td>\n",
       "      <td>31</td>\n",
       "      <td>14</td>\n",
       "      <td>5</td>\n",
       "      <td>14</td>\n",
       "      <td>...</td>\n",
       "      <td>1</td>\n",
       "      <td>3</td>\n",
       "      <td>4</td>\n",
       "      <td>2</td>\n",
       "      <td>2</td>\n",
       "      <td>0</td>\n",
       "      <td>0</td>\n",
       "      <td>2</td>\n",
       "      <td>-7</td>\n",
       "      <td>1</td>\n",
       "    </tr>\n",
       "    <tr>\n",
       "      <th>2</th>\n",
       "      <td>3</td>\n",
       "      <td>isahiah_Thomas</td>\n",
       "      <td>10/17/2017</td>\n",
       "      <td>TUESDAY</td>\n",
       "      <td>Boston_Celtics</td>\n",
       "      <td>1</td>\n",
       "      <td>0</td>\n",
       "      <td>0</td>\n",
       "      <td>0</td>\n",
       "      <td>0</td>\n",
       "      <td>...</td>\n",
       "      <td>0</td>\n",
       "      <td>0</td>\n",
       "      <td>0</td>\n",
       "      <td>0</td>\n",
       "      <td>0</td>\n",
       "      <td>0</td>\n",
       "      <td>0</td>\n",
       "      <td>0</td>\n",
       "      <td>0</td>\n",
       "      <td>1</td>\n",
       "    </tr>\n",
       "    <tr>\n",
       "      <th>3</th>\n",
       "      <td>4</td>\n",
       "      <td>Iman_Shumpert</td>\n",
       "      <td>10/17/2017</td>\n",
       "      <td>TUESDAY</td>\n",
       "      <td>Boston_Celtics</td>\n",
       "      <td>1</td>\n",
       "      <td>12</td>\n",
       "      <td>4</td>\n",
       "      <td>2</td>\n",
       "      <td>3</td>\n",
       "      <td>...</td>\n",
       "      <td>1</td>\n",
       "      <td>1</td>\n",
       "      <td>2</td>\n",
       "      <td>0</td>\n",
       "      <td>1</td>\n",
       "      <td>1</td>\n",
       "      <td>0</td>\n",
       "      <td>3</td>\n",
       "      <td>6</td>\n",
       "      <td>1</td>\n",
       "    </tr>\n",
       "    <tr>\n",
       "      <th>4</th>\n",
       "      <td>5</td>\n",
       "      <td>Jr.Smith</td>\n",
       "      <td>10/17/2017</td>\n",
       "      <td>TUESDAY</td>\n",
       "      <td>Boston_Celtics</td>\n",
       "      <td>1</td>\n",
       "      <td>21</td>\n",
       "      <td>10</td>\n",
       "      <td>4</td>\n",
       "      <td>7</td>\n",
       "      <td>...</td>\n",
       "      <td>0</td>\n",
       "      <td>4</td>\n",
       "      <td>4</td>\n",
       "      <td>1</td>\n",
       "      <td>0</td>\n",
       "      <td>0</td>\n",
       "      <td>0</td>\n",
       "      <td>4</td>\n",
       "      <td>7</td>\n",
       "      <td>1</td>\n",
       "    </tr>\n",
       "  </tbody>\n",
       "</table>\n",
       "<p>5 rows × 27 columns</p>\n",
       "</div>"
      ],
      "text/plain": [
       "   jersey  number          PLAYER   GAME DATE      DAY        OPPONENT  \\\n",
       "0               0      Kevin_Love  10/17/2017  TUESDAY  Boston_Celtics   \n",
       "1               1    Derrick_Rose  10/17/2017  TUESDAY  Boston_Celtics   \n",
       "2               3  isahiah_Thomas  10/17/2017  TUESDAY  Boston_Celtics   \n",
       "3               4   Iman_Shumpert  10/17/2017  TUESDAY  Boston_Celtics   \n",
       "4               5        Jr.Smith  10/17/2017  TUESDAY  Boston_Celtics   \n",
       "\n",
       "   HOMEGAME  MIN  PTS  FGM  FGA     ...       OFREB  DFREB  REB  AST  TOV  \\\n",
       "0         1   28   15    4    9     ...           3      8   11    0    0   \n",
       "1         1   31   14    5   14     ...           1      3    4    2    2   \n",
       "2         1    0    0    0    0     ...           0      0    0    0    0   \n",
       "3         1   12    4    2    3     ...           1      1    2    0    1   \n",
       "4         1   21   10    4    7     ...           0      4    4    1    0   \n",
       "\n",
       "   STL  BLKS  PF  DF  GAME_RESULT  \n",
       "0    0     2   3   2            1  \n",
       "1    0     0   2  -7            1  \n",
       "2    0     0   0   0            1  \n",
       "3    1     0   3   6            1  \n",
       "4    0     0   4   7            1  \n",
       "\n",
       "[5 rows x 27 columns]"
      ]
     },
     "execution_count": 111,
     "metadata": {},
     "output_type": "execute_result"
    }
   ],
   "source": [
    "cavs.head()"
   ]
  },
  {
   "cell_type": "code",
   "execution_count": 112,
   "metadata": {},
   "outputs": [
    {
     "data": {
      "text/plain": [
       "Index(['jersey  number', 'PLAYER', 'GAME DATE', 'DAY', 'OPPONENT', 'HOMEGAME',\n",
       "       'MIN', 'PTS', 'FGM', 'FGA', 'FG%', '3PM', '3PA', '3pt%', 'FTM', 'FTA',\n",
       "       'FT%', 'OFREB', 'DFREB', 'REB', 'AST', 'TOV', 'STL', 'BLKS', 'PF', 'DF',\n",
       "       'GAME_RESULT'],\n",
       "      dtype='object')"
      ]
     },
     "execution_count": 112,
     "metadata": {},
     "output_type": "execute_result"
    }
   ],
   "source": [
    "cavs.columns"
   ]
  },
  {
   "cell_type": "code",
   "execution_count": 113,
   "metadata": {},
   "outputs": [
    {
     "data": {
      "text/html": [
       "<div>\n",
       "<style>\n",
       "    .dataframe thead tr:only-child th {\n",
       "        text-align: right;\n",
       "    }\n",
       "\n",
       "    .dataframe thead th {\n",
       "        text-align: left;\n",
       "    }\n",
       "\n",
       "    .dataframe tbody tr th {\n",
       "        vertical-align: top;\n",
       "    }\n",
       "</style>\n",
       "<table border=\"1\" class=\"dataframe\">\n",
       "  <thead>\n",
       "    <tr style=\"text-align: right;\">\n",
       "      <th></th>\n",
       "      <th>jersey  number</th>\n",
       "      <th>PLAYER</th>\n",
       "      <th>GAME DATE</th>\n",
       "      <th>DAY</th>\n",
       "      <th>OPPONENT</th>\n",
       "      <th>HOMEGAME</th>\n",
       "      <th>MIN</th>\n",
       "      <th>PTS</th>\n",
       "      <th>FGM</th>\n",
       "      <th>FGA</th>\n",
       "      <th>...</th>\n",
       "      <th>OFREB</th>\n",
       "      <th>DFREB</th>\n",
       "      <th>REB</th>\n",
       "      <th>AST</th>\n",
       "      <th>TOV</th>\n",
       "      <th>STL</th>\n",
       "      <th>BLKS</th>\n",
       "      <th>PF</th>\n",
       "      <th>DF</th>\n",
       "      <th>GAME_RESULT</th>\n",
       "    </tr>\n",
       "  </thead>\n",
       "  <tbody>\n",
       "  </tbody>\n",
       "</table>\n",
       "<p>0 rows × 27 columns</p>\n",
       "</div>"
      ],
      "text/plain": [
       "Empty DataFrame\n",
       "Columns: [jersey  number, PLAYER, GAME DATE, DAY, OPPONENT, HOMEGAME, MIN, PTS, FGM, FGA, FG%, 3PM, 3PA, 3pt%, FTM, FTA, FT%, OFREB, DFREB, REB, AST, TOV, STL, BLKS, PF, DF, GAME_RESULT]\n",
       "Index: []\n",
       "\n",
       "[0 rows x 27 columns]"
      ]
     },
     "execution_count": 113,
     "metadata": {},
     "output_type": "execute_result"
    }
   ],
   "source": [
    "#print (cavs.isnull())\n",
    "#cavs.dtypes\n",
    "#pd.isnull(cavs)\n",
    "null_data = cavs[cavs.isnull().any(axis=1)]\n",
    "null_data"
   ]
  },
  {
   "cell_type": "code",
   "execution_count": 114,
   "metadata": {
    "collapsed": true
   },
   "outputs": [],
   "source": [
    "###FLOAT TO INTEGER\n",
    "cavs[['MIN','PTS','FGM','FGA','3PM','3PA','FTM','FTA','OFREB','DFREB','REB','AST','TOV','STL','BLKS']]=cavs[['MIN','PTS','FGM','FGA','3PM','3PA','FTM','FTA','OFREB','DFREB','REB','AST','TOV','STL','BLKS']].astype(int)"
   ]
  },
  {
   "cell_type": "code",
   "execution_count": 115,
   "metadata": {},
   "outputs": [
    {
     "data": {
      "text/plain": [
       "(256, 27)"
      ]
     },
     "execution_count": 115,
     "metadata": {},
     "output_type": "execute_result"
    }
   ],
   "source": [
    "cavs.shape"
   ]
  },
  {
   "cell_type": "code",
   "execution_count": 116,
   "metadata": {
    "scrolled": false
   },
   "outputs": [
    {
     "data": {
      "text/html": [
       "<div>\n",
       "<style>\n",
       "    .dataframe thead tr:only-child th {\n",
       "        text-align: right;\n",
       "    }\n",
       "\n",
       "    .dataframe thead th {\n",
       "        text-align: left;\n",
       "    }\n",
       "\n",
       "    .dataframe tbody tr th {\n",
       "        vertical-align: top;\n",
       "    }\n",
       "</style>\n",
       "<table border=\"1\" class=\"dataframe\">\n",
       "  <thead>\n",
       "    <tr style=\"text-align: right;\">\n",
       "      <th></th>\n",
       "      <th>jersey  number</th>\n",
       "      <th>GAME DATE</th>\n",
       "      <th>DAY</th>\n",
       "      <th>OPPONENT</th>\n",
       "      <th>HOMEGAME</th>\n",
       "      <th>MIN</th>\n",
       "      <th>PTS</th>\n",
       "      <th>FGM</th>\n",
       "      <th>FGA</th>\n",
       "      <th>FG%</th>\n",
       "      <th>...</th>\n",
       "      <th>OFREB</th>\n",
       "      <th>DFREB</th>\n",
       "      <th>REB</th>\n",
       "      <th>AST</th>\n",
       "      <th>TOV</th>\n",
       "      <th>STL</th>\n",
       "      <th>BLKS</th>\n",
       "      <th>PF</th>\n",
       "      <th>DF</th>\n",
       "      <th>GAME_RESULT</th>\n",
       "    </tr>\n",
       "    <tr>\n",
       "      <th>PLAYER</th>\n",
       "      <th></th>\n",
       "      <th></th>\n",
       "      <th></th>\n",
       "      <th></th>\n",
       "      <th></th>\n",
       "      <th></th>\n",
       "      <th></th>\n",
       "      <th></th>\n",
       "      <th></th>\n",
       "      <th></th>\n",
       "      <th></th>\n",
       "      <th></th>\n",
       "      <th></th>\n",
       "      <th></th>\n",
       "      <th></th>\n",
       "      <th></th>\n",
       "      <th></th>\n",
       "      <th></th>\n",
       "      <th></th>\n",
       "      <th></th>\n",
       "      <th></th>\n",
       "    </tr>\n",
       "  </thead>\n",
       "  <tbody>\n",
       "    <tr>\n",
       "      <th>Kevin_Love</th>\n",
       "      <td>0</td>\n",
       "      <td>10/17/2017</td>\n",
       "      <td>TUESDAY</td>\n",
       "      <td>Boston_Celtics</td>\n",
       "      <td>1</td>\n",
       "      <td>28</td>\n",
       "      <td>15</td>\n",
       "      <td>4</td>\n",
       "      <td>9</td>\n",
       "      <td>44.4</td>\n",
       "      <td>...</td>\n",
       "      <td>3</td>\n",
       "      <td>8</td>\n",
       "      <td>11</td>\n",
       "      <td>0</td>\n",
       "      <td>0</td>\n",
       "      <td>0</td>\n",
       "      <td>2</td>\n",
       "      <td>3</td>\n",
       "      <td>2</td>\n",
       "      <td>1</td>\n",
       "    </tr>\n",
       "    <tr>\n",
       "      <th>Derrick_Rose</th>\n",
       "      <td>1</td>\n",
       "      <td>10/17/2017</td>\n",
       "      <td>TUESDAY</td>\n",
       "      <td>Boston_Celtics</td>\n",
       "      <td>1</td>\n",
       "      <td>31</td>\n",
       "      <td>14</td>\n",
       "      <td>5</td>\n",
       "      <td>14</td>\n",
       "      <td>35.7</td>\n",
       "      <td>...</td>\n",
       "      <td>1</td>\n",
       "      <td>3</td>\n",
       "      <td>4</td>\n",
       "      <td>2</td>\n",
       "      <td>2</td>\n",
       "      <td>0</td>\n",
       "      <td>0</td>\n",
       "      <td>2</td>\n",
       "      <td>-7</td>\n",
       "      <td>1</td>\n",
       "    </tr>\n",
       "    <tr>\n",
       "      <th>isahiah_Thomas</th>\n",
       "      <td>3</td>\n",
       "      <td>10/17/2017</td>\n",
       "      <td>TUESDAY</td>\n",
       "      <td>Boston_Celtics</td>\n",
       "      <td>1</td>\n",
       "      <td>0</td>\n",
       "      <td>0</td>\n",
       "      <td>0</td>\n",
       "      <td>0</td>\n",
       "      <td>0.0</td>\n",
       "      <td>...</td>\n",
       "      <td>0</td>\n",
       "      <td>0</td>\n",
       "      <td>0</td>\n",
       "      <td>0</td>\n",
       "      <td>0</td>\n",
       "      <td>0</td>\n",
       "      <td>0</td>\n",
       "      <td>0</td>\n",
       "      <td>0</td>\n",
       "      <td>1</td>\n",
       "    </tr>\n",
       "    <tr>\n",
       "      <th>Iman_Shumpert</th>\n",
       "      <td>4</td>\n",
       "      <td>10/17/2017</td>\n",
       "      <td>TUESDAY</td>\n",
       "      <td>Boston_Celtics</td>\n",
       "      <td>1</td>\n",
       "      <td>12</td>\n",
       "      <td>4</td>\n",
       "      <td>2</td>\n",
       "      <td>3</td>\n",
       "      <td>66.7</td>\n",
       "      <td>...</td>\n",
       "      <td>1</td>\n",
       "      <td>1</td>\n",
       "      <td>2</td>\n",
       "      <td>0</td>\n",
       "      <td>1</td>\n",
       "      <td>1</td>\n",
       "      <td>0</td>\n",
       "      <td>3</td>\n",
       "      <td>6</td>\n",
       "      <td>1</td>\n",
       "    </tr>\n",
       "    <tr>\n",
       "      <th>Jr.Smith</th>\n",
       "      <td>5</td>\n",
       "      <td>10/17/2017</td>\n",
       "      <td>TUESDAY</td>\n",
       "      <td>Boston_Celtics</td>\n",
       "      <td>1</td>\n",
       "      <td>21</td>\n",
       "      <td>10</td>\n",
       "      <td>4</td>\n",
       "      <td>7</td>\n",
       "      <td>57.1</td>\n",
       "      <td>...</td>\n",
       "      <td>0</td>\n",
       "      <td>4</td>\n",
       "      <td>4</td>\n",
       "      <td>1</td>\n",
       "      <td>0</td>\n",
       "      <td>0</td>\n",
       "      <td>0</td>\n",
       "      <td>4</td>\n",
       "      <td>7</td>\n",
       "      <td>1</td>\n",
       "    </tr>\n",
       "  </tbody>\n",
       "</table>\n",
       "<p>5 rows × 26 columns</p>\n",
       "</div>"
      ],
      "text/plain": [
       "                jersey  number   GAME DATE      DAY        OPPONENT  HOMEGAME  \\\n",
       "PLAYER                                                                          \n",
       "Kevin_Love                   0  10/17/2017  TUESDAY  Boston_Celtics         1   \n",
       "Derrick_Rose                 1  10/17/2017  TUESDAY  Boston_Celtics         1   \n",
       "isahiah_Thomas               3  10/17/2017  TUESDAY  Boston_Celtics         1   \n",
       "Iman_Shumpert                4  10/17/2017  TUESDAY  Boston_Celtics         1   \n",
       "Jr.Smith                     5  10/17/2017  TUESDAY  Boston_Celtics         1   \n",
       "\n",
       "                MIN  PTS  FGM  FGA   FG%     ...       OFREB  DFREB  REB  AST  \\\n",
       "PLAYER                                       ...                                \n",
       "Kevin_Love       28   15    4    9  44.4     ...           3      8   11    0   \n",
       "Derrick_Rose     31   14    5   14  35.7     ...           1      3    4    2   \n",
       "isahiah_Thomas    0    0    0    0   0.0     ...           0      0    0    0   \n",
       "Iman_Shumpert    12    4    2    3  66.7     ...           1      1    2    0   \n",
       "Jr.Smith         21   10    4    7  57.1     ...           0      4    4    1   \n",
       "\n",
       "                TOV  STL  BLKS  PF  DF  GAME_RESULT  \n",
       "PLAYER                                               \n",
       "Kevin_Love        0    0     2   3   2            1  \n",
       "Derrick_Rose      2    0     0   2  -7            1  \n",
       "isahiah_Thomas    0    0     0   0   0            1  \n",
       "Iman_Shumpert     1    1     0   3   6            1  \n",
       "Jr.Smith          0    0     0   4   7            1  \n",
       "\n",
       "[5 rows x 26 columns]"
      ]
     },
     "execution_count": 116,
     "metadata": {},
     "output_type": "execute_result"
    }
   ],
   "source": [
    "###INDEXING USING PLAYER\n",
    "cavaliers=cavs.set_index(\"PLAYER\")\n",
    "cavaliers.head()\n"
   ]
  },
  {
   "cell_type": "code",
   "execution_count": 117,
   "metadata": {
    "collapsed": true
   },
   "outputs": [],
   "source": [
    "Kevin_Love=cavaliers.loc['Kevin_Love',:]\n",
    "Lebron_James=cavaliers.loc['Lebron_James',:]\n",
    "Dwyane_Wade=cavaliers.loc['Dwyane _Wade',:]\n",
    "Iman_Shumpert=cavaliers.loc['Iman_Shumpert',:]\n",
    "Jr_Smith=cavaliers.loc['Jr.Smith',:]\n",
    "Kyle_Korver=cavaliers.loc['Kyle_Korver',:]\n",
    "Derrick_Rose=cavaliers.loc['Derrick_Rose',:]\n",
    "Jae_Crowder=cavaliers.loc['Jae_Crowder',:]\n",
    "Jeff_Green=cavaliers.loc['Jeff_Green',:]\n",
    "Tristan_Thompson=cavaliers.loc['Tristan-Thompson',:]\n",
    "Channing_Fyre=cavaliers.loc['Channing Fyre',:]\n",
    "Cedi_Osman=cavaliers.loc['Cedi_Osman',:]\n",
    "Jose_Calderon=cavaliers.loc['Jose_Calderon',:]\n"
   ]
  },
  {
   "cell_type": "code",
   "execution_count": 118,
   "metadata": {},
   "outputs": [],
   "source": [
    "#cavs[['PLAYER','PTS']]"
   ]
  },
  {
   "cell_type": "code",
   "execution_count": 119,
   "metadata": {},
   "outputs": [],
   "source": [
    "##############################POINTS\n",
    "Kevin_Love_pts=Kevin_Love['PTS'].sum()\n",
    "Lebron_James_pts=Lebron_James['PTS'].sum()\n",
    "Dwyane_Wade_pts=Dwyane_Wade['PTS'].sum()\n",
    "Jr_Smith_pts=Jr_Smith['PTS'].sum()\n",
    "Kyle_Korver_pts=Kyle_Korver['PTS'].sum()\n",
    "Iman_Shumpert_pts=Iman_Shumpert['PTS'].sum()\n",
    "Derrick_Rose_pts=Derrick_Rose['PTS'].sum()\n",
    "Jae_Crowder_pts=Jae_Crowder['PTS'].sum()\n",
    "Jeff_Green_pts=Jeff_Green['PTS'].sum()\n",
    "Tristan_Thompson_pts=Tristan_Thompson['PTS'].sum()\n",
    "Channing_Fyre_pts=Channing_Fyre['PTS'].sum()\n",
    "Cedi_Osman_pts=Cedi_Osman['PTS'].sum()\n",
    "Jose_Calderon_pts=Jose_Calderon['PTS'].sum()\n",
    "cavs_pts=cavaliers['PTS'].sum()"
   ]
  },
  {
   "cell_type": "code",
   "execution_count": 120,
   "metadata": {
    "scrolled": true
   },
   "outputs": [
    {
     "name": "stdout",
     "output_type": "stream",
     "text": [
      "High five! You successfully sent some data to your account on plotly. View your plot in your browser at https://plot.ly/~akshaydirisala/0 or inside your plot.ly account where it is named 'basic-bar'\n"
     ]
    },
    {
     "data": {
      "text/html": [
       "<iframe id=\"igraph\" scrolling=\"no\" style=\"border:none;\" seamless=\"seamless\" src=\"https://plot.ly/~akshaydirisala/0.embed\" height=\"525px\" width=\"100%\"></iframe>"
      ],
      "text/plain": [
       "<plotly.tools.PlotlyDisplay object>"
      ]
     },
     "execution_count": 120,
     "metadata": {},
     "output_type": "execute_result"
    }
   ],
   "source": [
    "import plotly.plotly as py\n",
    "plotly.tools.set_credentials_file(username='akshaydirisala', api_key='8D4hQujHUfnH1uS4bwTQ')\n",
    "import plotly.graph_objs as go\n",
    "data = [go.Bar(\n",
    "            x=['Kevin_LOVE', 'Kyle_Korver', ' Lebron_James','Jr_Smith','Derrick_Rose','Jae_Crowder', 'Tristan_Thompson','Iman_Shumpert','Dwyane_Wade','Jeff_Green','Channing_Fyre','Cedi_Osman','Jose_Calderon'],\n",
    "            y=[Kevin_Love_pts, Kyle_Korver_pts, Lebron_James_pts,Jr_Smith_pts,Derrick_Rose_pts,Jae_Crowder_pts,Tristan_Thompson_pts,Iman_Shumpert_pts,Dwyane_Wade_pts,Jeff_Green_pts,Channing_Fyre_pts,Cedi_Osman_pts,Jose_Calderon_pts],\n",
    ")]\n",
    "py.iplot(data, filename='basic-bar')"
   ]
  },
  {
   "cell_type": "code",
   "execution_count": 121,
   "metadata": {
    "collapsed": true
   },
   "outputs": [],
   "source": [
    "##############################3POINTS\n",
    "Kevin_Love_3pts=Kevin_Love['3PM'].sum()\n",
    "Lebron_James_3pts=Lebron_James['3PM'].sum()\n",
    "Dwyane_Wade_3pts=Dwyane_Wade['3PM'].sum()\n",
    "Jr_Smith_3pts=Jr_Smith['3PM'].sum()\n",
    "Kyle_Korver_3pts=Kyle_Korver['3PM'].sum()\n",
    "Iman_Shumpert_3pts=Iman_Shumpert['3PM'].sum()\n",
    "Derrick_Rose_3pts=Derrick_Rose['3PM'].sum()\n",
    "Jae_Crowder_3pts=Jae_Crowder['3PM'].sum()\n",
    "Jeff_Green_3pts=Jeff_Green['3PM'].sum()\n",
    "Tristan_Thompson_3pts=Tristan_Thompson['3PM'].sum()\n",
    "Channing_Fyre_3pts=Channing_Fyre['3PM'].sum()\n",
    "Cedi_Osman_3pts=Cedi_Osman['3PM'].sum()\n",
    "Jose_Calderon_3pts=Jose_Calderon['3PM'].sum()\n",
    "cavs_3pts=cavaliers['3PM'].sum()"
   ]
  },
  {
   "cell_type": "code",
   "execution_count": 122,
   "metadata": {},
   "outputs": [
    {
     "name": "stdout",
     "output_type": "stream",
     "text": [
      "High five! You successfully sent some data to your account on plotly. View your plot in your browser at https://plot.ly/~akshaydirisala/0 or inside your plot.ly account where it is named 'basic-bar'\n"
     ]
    },
    {
     "data": {
      "text/html": [
       "<iframe id=\"igraph\" scrolling=\"no\" style=\"border:none;\" seamless=\"seamless\" src=\"https://plot.ly/~akshaydirisala/0.embed\" height=\"525px\" width=\"100%\"></iframe>"
      ],
      "text/plain": [
       "<plotly.tools.PlotlyDisplay object>"
      ]
     },
     "execution_count": 122,
     "metadata": {},
     "output_type": "execute_result"
    }
   ],
   "source": [
    "import plotly.plotly as py\n",
    "plotly.tools.set_credentials_file(username='akshaydirisala', api_key='8D4hQujHUfnH1uS4bwTQ')\n",
    "import plotly.graph_objs as go\n",
    "data = [go.Bar(\n",
    "            x=['Kevin_LOVE', 'Kyle_Korver', ' Lebron_James','Jr_Smith','Derrick_Rose','Jae_Crowder', 'Tristan_Thompson','Iman_Shumpert','Dwyane_Wade','Jeff_Green','Channing_Fyre','Cedi_Osman','Jose_Calderon'],\n",
    "            y=[Kevin_Love_3pts, Kyle_Korver_3pts, Lebron_James_3pts,Jr_Smith_3pts,Derrick_Rose_3pts,Jae_Crowder_3pts,Tristan_Thompson_3pts,Iman_Shumpert_3pts,Dwyane_Wade_3pts,Jeff_Green_3pts,Channing_Fyre_3pts,Cedi_Osman_3pts,Jose_Calderon_3pts],\n",
    ")]\n",
    "py.iplot(data, filename='basic-bar')"
   ]
  },
  {
   "cell_type": "code",
   "execution_count": 102,
   "metadata": {},
   "outputs": [],
   "source": [
    "#players=('Kevin_Love','Lebron_James','Dwyane_Wade','Jr_Smith','Kyle_Korver','Iman_Shumpert','Derrick_Rose','Jae_Crowder','Jeff_Green','Tristan_Thompson')\n",
    "#points3=([Kevin_Love_3pts,Lebron_James_3pts,Dwyane_Wade_3pts,Jr_Smith_3pts,Kyle_Korver_3pts,Iman_Shumpert_3pts,Derrick_Rose_3pts,Jae_Crowder_3pts,Jeff_Green_3pts,Tristan_Thompson_3pts])\n",
    "#plt.figure(figsize=(17, 5))\n",
    "#plt.bar(players,points3, align='center',width=0.6,color=('C0', 'C1', 'C2', 'C3', 'C4', 'C5', 'C6', 'C7', 'C8', 'C9'))\n",
    "#plt.xlabel(\"CAVALIERS\")\n",
    "#plt.ylabel('3POINTS')\n",
    "#plt.title('3POINTSMADE')\n",
    "#plt.show()"
   ]
  },
  {
   "cell_type": "code",
   "execution_count": 123,
   "metadata": {
    "collapsed": true
   },
   "outputs": [],
   "source": [
    "##############################Assists\n",
    "Kevin_Love_AST=Kevin_Love['AST'].sum()\n",
    "Lebron_James_AST=Lebron_James['AST'].sum()\n",
    "Dwyane_Wade_AST=Dwyane_Wade['AST'].sum()\n",
    "Jr_Smith_AST=Jr_Smith['AST'].sum()\n",
    "Kyle_Korver_AST=Kyle_Korver['AST'].sum()\n",
    "Iman_Shumpert_AST=Iman_Shumpert['AST'].sum()\n",
    "Derrick_Rose_AST=Derrick_Rose['AST'].sum()\n",
    "Jae_Crowder_AST=Jae_Crowder['AST'].sum()\n",
    "Jeff_Green_AST=Jeff_Green['AST'].sum()\n",
    "Tristan_Thompson_AST=Tristan_Thompson['AST'].sum()\n",
    "Channing_Fyre_AST=Channing_Fyre['AST'].sum()\n",
    "Cedi_Osman_AST=Cedi_Osman['AST'].sum()\n",
    "Jose_Calderon_AST=Jose_Calderon['AST'].sum()\n",
    "cavs_AST=cavaliers['AST'].sum()"
   ]
  },
  {
   "cell_type": "code",
   "execution_count": 99,
   "metadata": {},
   "outputs": [
    {
     "name": "stdout",
     "output_type": "stream",
     "text": [
      "High five! You successfully sent some data to your account on plotly. View your plot in your browser at https://plot.ly/~akshaydirisala/0 or inside your plot.ly account where it is named 'basic-bar'\n"
     ]
    },
    {
     "data": {
      "text/html": [
       "<iframe id=\"igraph\" scrolling=\"no\" style=\"border:none;\" seamless=\"seamless\" src=\"https://plot.ly/~akshaydirisala/0.embed\" height=\"525px\" width=\"100%\"></iframe>"
      ],
      "text/plain": [
       "<plotly.tools.PlotlyDisplay object>"
      ]
     },
     "execution_count": 99,
     "metadata": {},
     "output_type": "execute_result"
    }
   ],
   "source": [
    "######################################ASSISTS\n",
    "import plotly.plotly as py\n",
    "plotly.tools.set_credentials_file(username='akshaydirisala', api_key='8D4hQujHUfnH1uS4bwTQ')\n",
    "import plotly.graph_objs as go\n",
    "assists = [go.Bar(\n",
    "            x=['Kevin_LOVE', 'Kyle_Korver', ' Lebron_James','Jr_Smith','Derrick_Rose','Jae_Crowder', 'Tristan_Thompson','Iman_Shumpert','Dwyane_Wade','Jeff_Green','Channing_Fyre','Cedi_Osman','Jose_Calderon'],\n",
    "            y=[Kevin_Love_AST, Kyle_Korver_AST, Lebron_James_AST,Jr_Smith_AST,Derrick_Rose_AST,Jae_Crowder_AST,Tristan_Thompson_AST,Iman_Shumpert_AST,Dwyane_Wade_AST,Jeff_Green_AST,Channing_Fyre_AST,Cedi_Osman_AST,Jose_Calderon_AST],\n",
    ")]\n",
    "py.iplot(assists, filename='basic-bar')"
   ]
  },
  {
   "cell_type": "code",
   "execution_count": 101,
   "metadata": {},
   "outputs": [],
   "source": [
    "#players=('Kevin_Love','Lebron_James','Dwyane_Wade','Jr_Smith','Kyle_Korver','Iman_Shumpert','Derrick_Rose','Jae_Crowder','Jeff_Green','Tristan_Thompson')\n",
    "#Assists=([Kevin_Love_AST,Lebron_James_AST,Dwyane_Wade_AST,Jr_Smith_AST,Kyle_Korver_AST,Iman_Shumpert_AST,Derrick_Rose_AST,Jae_Crowder_AST,Jeff_Green_AST,Tristan_Thompson_AST])\n",
    "#plt.figure(figsize=(17, 5))\n",
    "#plt.bar(players,Assists, align='center',width=0.6,color=('C0', 'C1', 'C2', 'C3', 'C4', 'C5', 'C6', 'C7', 'C8', 'C9'))\n",
    "#plt.xlabel(\"CAVALIERS\")\n",
    "##plt.ylabel('ASSISTS')\n",
    "#plt.title('ASSISTS')\n",
    "#plt.show()"
   ]
  },
  {
   "cell_type": "code",
   "execution_count": 124,
   "metadata": {
    "collapsed": true
   },
   "outputs": [],
   "source": [
    "##############################STEALS\n",
    "Kevin_Love_STL=Kevin_Love['STL'].sum()\n",
    "Lebron_James_STL=Lebron_James['STL'].sum()\n",
    "Dwyane_Wade_STL=Dwyane_Wade['STL'].sum()\n",
    "Jr_Smith_STL=Jr_Smith['STL'].sum()\n",
    "Kyle_Korver_STL=Kyle_Korver['STL'].sum()\n",
    "Iman_Shumpert_STL=Iman_Shumpert['STL'].sum()\n",
    "Derrick_Rose_STL=Derrick_Rose['STL'].sum()\n",
    "Jae_Crowder_STL=Jae_Crowder['STL'].sum()\n",
    "Jeff_Green_STL=Jeff_Green['STL'].sum()\n",
    "Tristan_Thompson_STL=Tristan_Thompson['STL'].sum()\n",
    "Channing_Fyre_STL=Channing_Fyre['STL'].sum()\n",
    "Cedi_Osman_STL=Cedi_Osman['STL'].sum()\n",
    "Jose_Calderon_STL=Jose_Calderon['STL'].sum()\n",
    "cavs_STL=cavaliers['STL'].sum()"
   ]
  },
  {
   "cell_type": "code",
   "execution_count": 125,
   "metadata": {},
   "outputs": [
    {
     "name": "stdout",
     "output_type": "stream",
     "text": [
      "High five! You successfully sent some data to your account on plotly. View your plot in your browser at https://plot.ly/~akshaydirisala/0 or inside your plot.ly account where it is named 'basic-bar'\n"
     ]
    },
    {
     "data": {
      "text/html": [
       "<iframe id=\"igraph\" scrolling=\"no\" style=\"border:none;\" seamless=\"seamless\" src=\"https://plot.ly/~akshaydirisala/0.embed\" height=\"525px\" width=\"100%\"></iframe>"
      ],
      "text/plain": [
       "<plotly.tools.PlotlyDisplay object>"
      ]
     },
     "execution_count": 125,
     "metadata": {},
     "output_type": "execute_result"
    }
   ],
   "source": [
    "import plotly.plotly as py\n",
    "plotly.tools.set_credentials_file(username='akshaydirisala', api_key='8D4hQujHUfnH1uS4bwTQ')\n",
    "import plotly.graph_objs as go\n",
    "steals = [go.Bar(\n",
    "            x=['Kevin_LOVE', 'Kyle_Korver', ' Lebron_James','Jr_Smith','Derrick_Rose','Jae_Crowder', 'Tristan_Thompson','Iman_Shumpert','Dwyane_Wade','Jeff_Green','Channing_Fyre','Cedi_Osman','Jose_Calderon'],\n",
    "            y=[Kevin_Love_STL, Kyle_Korver_STL, Lebron_James_STL,Jr_Smith_STL,Derrick_Rose_STL,Jae_Crowder_STL,Tristan_Thompson_STL,Iman_Shumpert_STL,Dwyane_Wade_STL,Jeff_Green_STL,Channing_Fyre_STL,Cedi_Osman_STL,Jose_Calderon_STL],\n",
    ")]\n",
    "py.iplot(steals, filename='basic-bar')"
   ]
  },
  {
   "cell_type": "code",
   "execution_count": 126,
   "metadata": {},
   "outputs": [],
   "source": [
    "#players=('Kevin_Love','Lebron_James','Dwyane_Wade','Jr_Smith','Kyle_Korver','Iman_Shumpert','Derrick_Rose','Jae_Crowder','Jeff_Green','Tristan_Thompson')\n",
    "##steals=([Kevin_Love_STL,Lebron_James_STL,Dwyane_Wade_STL,Jr_Smith_STL,Kyle_Korver_STL,Iman_Shumpert_STL,Derrick_Rose_STL,Jae_Crowder_STL,Jeff_Green_STL,Tristan_Thompson_STL])\n",
    "#plt.figure(figsize=(17, 5))\n",
    "#plt.bar(players,steals, align='center',width=0.6,color=('C0', 'C1', 'C2', 'C3', 'C4', 'C5', 'C6', 'C7', 'C8', 'C9'))\n",
    "#plt.xlabel(\"CAVALIERS\")\n",
    "#plt.ylabel('steals')\n",
    "#plt.title('STEALS')\n",
    "#plt.show()"
   ]
  },
  {
   "cell_type": "code",
   "execution_count": 127,
   "metadata": {
    "collapsed": true
   },
   "outputs": [],
   "source": [
    "#####################REBOUNDS\n",
    "Kevin_Love_REB=Kevin_Love['REB'].sum()\n",
    "Lebron_James_REB=Lebron_James['REB'].sum()\n",
    "Dwyane_Wade_REB=Dwyane_Wade['REB'].sum()\n",
    "Jr_Smith_REB=Jr_Smith['REB'].sum()\n",
    "Kyle_Korver_REB=Kyle_Korver['REB'].sum()\n",
    "Iman_Shumpert_REB=Iman_Shumpert['REB'].sum()\n",
    "Derrick_Rose_REB=Derrick_Rose['REB'].sum()\n",
    "Jae_Crowder_REB=Jae_Crowder['REB'].sum()\n",
    "Jeff_Green_REB=Jeff_Green['REB'].sum()\n",
    "Tristan_Thompson_REB=Tristan_Thompson['REB'].sum()\n",
    "Channing_Fyre_REB=Channing_Fyre['REB'].sum()\n",
    "Cedi_Osman_REB=Cedi_Osman['REB'].sum()\n",
    "Jose_Calderon_REB=Jose_Calderon['REB'].sum()\n",
    "cavs_REB=cavaliers['REB'].sum()"
   ]
  },
  {
   "cell_type": "code",
   "execution_count": 128,
   "metadata": {},
   "outputs": [
    {
     "name": "stdout",
     "output_type": "stream",
     "text": [
      "High five! You successfully sent some data to your account on plotly. View your plot in your browser at https://plot.ly/~akshaydirisala/0 or inside your plot.ly account where it is named 'basic-bar'\n"
     ]
    },
    {
     "data": {
      "text/html": [
       "<iframe id=\"igraph\" scrolling=\"no\" style=\"border:none;\" seamless=\"seamless\" src=\"https://plot.ly/~akshaydirisala/0.embed\" height=\"525px\" width=\"100%\"></iframe>"
      ],
      "text/plain": [
       "<plotly.tools.PlotlyDisplay object>"
      ]
     },
     "execution_count": 128,
     "metadata": {},
     "output_type": "execute_result"
    }
   ],
   "source": [
    "import plotly.plotly as py\n",
    "plotly.tools.set_credentials_file(username='akshaydirisala', api_key='8D4hQujHUfnH1uS4bwTQ')\n",
    "import plotly.graph_objs as go\n",
    "rebounds = [go.Bar(\n",
    "            x=['Kevin_LOVE', 'Kyle_Korver', ' Lebron_James','Jr_Smith','Derrick_Rose','Jae_Crowder', 'Tristan_Thompson','Iman_Shumpert','Dwyane_Wade','Jeff_Green','Channing_Fyre','Cedi_Osman','Jose_Calderon'],\n",
    "            y=[Kevin_Love_REB, Kyle_Korver_REB, Lebron_James_REB,Jr_Smith_REB,Derrick_Rose_REB,Jae_Crowder_REB,Tristan_Thompson_REB,Iman_Shumpert_REB,Dwyane_Wade_REB,Jeff_Green_REB,Channing_Fyre_REB,Cedi_Osman_REB,Jose_Calderon_REB],\n",
    ")]\n",
    "py.iplot(rebounds, filename='basic-bar')"
   ]
  },
  {
   "cell_type": "code",
   "execution_count": 129,
   "metadata": {},
   "outputs": [
    {
     "ename": "ValueError",
     "evalue": "incompatible sizes: argument 'height' must be length 10 or scalar",
     "output_type": "error",
     "traceback": [
      "\u001b[1;31m---------------------------------------------------------------------------\u001b[0m",
      "\u001b[1;31mValueError\u001b[0m                                Traceback (most recent call last)",
      "\u001b[1;32m<ipython-input-129-8925cde404f2>\u001b[0m in \u001b[0;36m<module>\u001b[1;34m()\u001b[0m\n\u001b[0;32m      2\u001b[0m \u001b[0mRebounds\u001b[0m\u001b[1;33m=\u001b[0m\u001b[1;33m(\u001b[0m\u001b[1;33m[\u001b[0m\u001b[0mKevin_Love_REB\u001b[0m\u001b[1;33m,\u001b[0m\u001b[0mLebron_James_REB\u001b[0m\u001b[1;33m,\u001b[0m\u001b[0mDwyane_Wade_REB\u001b[0m\u001b[1;33m,\u001b[0m\u001b[0mJr_Smith_REB\u001b[0m\u001b[1;33m,\u001b[0m\u001b[0mKyle_Korver_REB\u001b[0m\u001b[1;33m,\u001b[0m\u001b[0mIman_Shumpert_REB\u001b[0m\u001b[1;33m,\u001b[0m\u001b[0mDerrick_Rose_REB\u001b[0m\u001b[1;33m,\u001b[0m\u001b[0mJae_Crowder_REB\u001b[0m\u001b[1;33m,\u001b[0m\u001b[0mJeff_Green_REB\u001b[0m\u001b[1;33m,\u001b[0m\u001b[0mTristan_Thompson_REB\u001b[0m\u001b[1;33m]\u001b[0m\u001b[1;33m)\u001b[0m\u001b[1;33m\u001b[0m\u001b[0m\n\u001b[0;32m      3\u001b[0m \u001b[0mplt\u001b[0m\u001b[1;33m.\u001b[0m\u001b[0mfigure\u001b[0m\u001b[1;33m(\u001b[0m\u001b[0mfigsize\u001b[0m\u001b[1;33m=\u001b[0m\u001b[1;33m(\u001b[0m\u001b[1;36m17\u001b[0m\u001b[1;33m,\u001b[0m \u001b[1;36m5\u001b[0m\u001b[1;33m)\u001b[0m\u001b[1;33m)\u001b[0m\u001b[1;33m\u001b[0m\u001b[0m\n\u001b[1;32m----> 4\u001b[1;33m \u001b[0mplt\u001b[0m\u001b[1;33m.\u001b[0m\u001b[0mbar\u001b[0m\u001b[1;33m(\u001b[0m\u001b[0mplayers\u001b[0m\u001b[1;33m,\u001b[0m\u001b[0msteals\u001b[0m\u001b[1;33m,\u001b[0m \u001b[0malign\u001b[0m\u001b[1;33m=\u001b[0m\u001b[1;34m'center'\u001b[0m\u001b[1;33m,\u001b[0m\u001b[0mwidth\u001b[0m\u001b[1;33m=\u001b[0m\u001b[1;36m0.6\u001b[0m\u001b[1;33m,\u001b[0m\u001b[0mcolor\u001b[0m\u001b[1;33m=\u001b[0m\u001b[1;33m(\u001b[0m\u001b[1;34m'C0'\u001b[0m\u001b[1;33m,\u001b[0m \u001b[1;34m'C1'\u001b[0m\u001b[1;33m,\u001b[0m \u001b[1;34m'C2'\u001b[0m\u001b[1;33m,\u001b[0m \u001b[1;34m'C3'\u001b[0m\u001b[1;33m,\u001b[0m \u001b[1;34m'C4'\u001b[0m\u001b[1;33m,\u001b[0m \u001b[1;34m'C5'\u001b[0m\u001b[1;33m,\u001b[0m \u001b[1;34m'C6'\u001b[0m\u001b[1;33m,\u001b[0m \u001b[1;34m'C7'\u001b[0m\u001b[1;33m,\u001b[0m \u001b[1;34m'C8'\u001b[0m\u001b[1;33m,\u001b[0m \u001b[1;34m'C9'\u001b[0m\u001b[1;33m)\u001b[0m\u001b[1;33m)\u001b[0m\u001b[1;33m\u001b[0m\u001b[0m\n\u001b[0m\u001b[0;32m      5\u001b[0m \u001b[0mplt\u001b[0m\u001b[1;33m.\u001b[0m\u001b[0mxlabel\u001b[0m\u001b[1;33m(\u001b[0m\u001b[1;34m\"CAVALIERS\"\u001b[0m\u001b[1;33m)\u001b[0m\u001b[1;33m\u001b[0m\u001b[0m\n\u001b[0;32m      6\u001b[0m \u001b[0mplt\u001b[0m\u001b[1;33m.\u001b[0m\u001b[0mylabel\u001b[0m\u001b[1;33m(\u001b[0m\u001b[1;34m'rebounds'\u001b[0m\u001b[1;33m)\u001b[0m\u001b[1;33m\u001b[0m\u001b[0m\n",
      "\u001b[1;32mC:\\Users\\aksha\\AppData\\Local\\Continuum\\Anaconda3\\lib\\site-packages\\matplotlib\\pyplot.py\u001b[0m in \u001b[0;36mbar\u001b[1;34m(left, height, width, bottom, hold, data, **kwargs)\u001b[0m\n\u001b[0;32m   2702\u001b[0m     \u001b[1;32mtry\u001b[0m\u001b[1;33m:\u001b[0m\u001b[1;33m\u001b[0m\u001b[0m\n\u001b[0;32m   2703\u001b[0m         ret = ax.bar(left, height, width=width, bottom=bottom, data=data,\n\u001b[1;32m-> 2704\u001b[1;33m                      **kwargs)\n\u001b[0m\u001b[0;32m   2705\u001b[0m     \u001b[1;32mfinally\u001b[0m\u001b[1;33m:\u001b[0m\u001b[1;33m\u001b[0m\u001b[0m\n\u001b[0;32m   2706\u001b[0m         \u001b[0max\u001b[0m\u001b[1;33m.\u001b[0m\u001b[0m_hold\u001b[0m \u001b[1;33m=\u001b[0m \u001b[0mwashold\u001b[0m\u001b[1;33m\u001b[0m\u001b[0m\n",
      "\u001b[1;32mC:\\Users\\aksha\\AppData\\Local\\Continuum\\Anaconda3\\lib\\site-packages\\matplotlib\\__init__.py\u001b[0m in \u001b[0;36minner\u001b[1;34m(ax, *args, **kwargs)\u001b[0m\n\u001b[0;32m   1895\u001b[0m                     warnings.warn(msg % (label_namer, func.__name__),\n\u001b[0;32m   1896\u001b[0m                                   RuntimeWarning, stacklevel=2)\n\u001b[1;32m-> 1897\u001b[1;33m             \u001b[1;32mreturn\u001b[0m \u001b[0mfunc\u001b[0m\u001b[1;33m(\u001b[0m\u001b[0max\u001b[0m\u001b[1;33m,\u001b[0m \u001b[1;33m*\u001b[0m\u001b[0margs\u001b[0m\u001b[1;33m,\u001b[0m \u001b[1;33m**\u001b[0m\u001b[0mkwargs\u001b[0m\u001b[1;33m)\u001b[0m\u001b[1;33m\u001b[0m\u001b[0m\n\u001b[0m\u001b[0;32m   1898\u001b[0m         \u001b[0mpre_doc\u001b[0m \u001b[1;33m=\u001b[0m \u001b[0minner\u001b[0m\u001b[1;33m.\u001b[0m\u001b[0m__doc__\u001b[0m\u001b[1;33m\u001b[0m\u001b[0m\n\u001b[0;32m   1899\u001b[0m         \u001b[1;32mif\u001b[0m \u001b[0mpre_doc\u001b[0m \u001b[1;32mis\u001b[0m \u001b[1;32mNone\u001b[0m\u001b[1;33m:\u001b[0m\u001b[1;33m\u001b[0m\u001b[0m\n",
      "\u001b[1;32mC:\\Users\\aksha\\AppData\\Local\\Continuum\\Anaconda3\\lib\\site-packages\\matplotlib\\axes\\_axes.py\u001b[0m in \u001b[0;36mbar\u001b[1;34m(self, left, height, width, bottom, **kwargs)\u001b[0m\n\u001b[0;32m   2077\u001b[0m         \u001b[1;32mif\u001b[0m \u001b[0mlen\u001b[0m\u001b[1;33m(\u001b[0m\u001b[0mheight\u001b[0m\u001b[1;33m)\u001b[0m \u001b[1;33m!=\u001b[0m \u001b[0mnbars\u001b[0m\u001b[1;33m:\u001b[0m\u001b[1;33m\u001b[0m\u001b[0m\n\u001b[0;32m   2078\u001b[0m             raise ValueError(\"incompatible sizes: argument 'height' \"\n\u001b[1;32m-> 2079\u001b[1;33m                               \"must be length %d or scalar\" % nbars)\n\u001b[0m\u001b[0;32m   2080\u001b[0m         \u001b[1;32mif\u001b[0m \u001b[0mlen\u001b[0m\u001b[1;33m(\u001b[0m\u001b[0mwidth\u001b[0m\u001b[1;33m)\u001b[0m \u001b[1;33m!=\u001b[0m \u001b[0mnbars\u001b[0m\u001b[1;33m:\u001b[0m\u001b[1;33m\u001b[0m\u001b[0m\n\u001b[0;32m   2081\u001b[0m             raise ValueError(\"incompatible sizes: argument 'width' \"\n",
      "\u001b[1;31mValueError\u001b[0m: incompatible sizes: argument 'height' must be length 10 or scalar"
     ]
    }
   ],
   "source": [
    "players=('Kevin_Love','Lebron_James','Dwyane_Wade','Jr_Smith','Kyle_Korver','Iman_Shumpert','Derrick_Rose','Jae_Crowder','Jeff_Green','Tristan_Thompson')\n",
    "Rebounds=([Kevin_Love_REB,Lebron_James_REB,Dwyane_Wade_REB,Jr_Smith_REB,Kyle_Korver_REB,Iman_Shumpert_REB,Derrick_Rose_REB,Jae_Crowder_REB,Jeff_Green_REB,Tristan_Thompson_REB])\n",
    "plt.figure(figsize=(17, 5))\n",
    "plt.bar(players,steals, align='center',width=0.6,color=('C0', 'C1', 'C2', 'C3', 'C4', 'C5', 'C6', 'C7', 'C8', 'C9'))\n",
    "plt.xlabel(\"CAVALIERS\")\n",
    "plt.ylabel('rebounds')\n",
    "plt.title('REBOUNDS')\n",
    "plt.show()"
   ]
  },
  {
   "cell_type": "code",
   "execution_count": 130,
   "metadata": {},
   "outputs": [
    {
     "data": {
      "text/html": [
       "<div>\n",
       "<style>\n",
       "    .dataframe thead tr:only-child th {\n",
       "        text-align: right;\n",
       "    }\n",
       "\n",
       "    .dataframe thead th {\n",
       "        text-align: left;\n",
       "    }\n",
       "\n",
       "    .dataframe tbody tr th {\n",
       "        vertical-align: top;\n",
       "    }\n",
       "</style>\n",
       "<table border=\"1\" class=\"dataframe\">\n",
       "  <thead>\n",
       "    <tr style=\"text-align: right;\">\n",
       "      <th></th>\n",
       "      <th>jersey  number</th>\n",
       "      <th>GAME DATE</th>\n",
       "      <th>DAY</th>\n",
       "      <th>OPPONENT</th>\n",
       "      <th>HOMEGAME</th>\n",
       "      <th>MIN</th>\n",
       "      <th>PTS</th>\n",
       "      <th>FGM</th>\n",
       "      <th>FGA</th>\n",
       "      <th>FG%</th>\n",
       "      <th>...</th>\n",
       "      <th>OFREB</th>\n",
       "      <th>DFREB</th>\n",
       "      <th>REB</th>\n",
       "      <th>AST</th>\n",
       "      <th>TOV</th>\n",
       "      <th>STL</th>\n",
       "      <th>BLKS</th>\n",
       "      <th>PF</th>\n",
       "      <th>DF</th>\n",
       "      <th>GAME_RESULT</th>\n",
       "    </tr>\n",
       "    <tr>\n",
       "      <th>PLAYER</th>\n",
       "      <th></th>\n",
       "      <th></th>\n",
       "      <th></th>\n",
       "      <th></th>\n",
       "      <th></th>\n",
       "      <th></th>\n",
       "      <th></th>\n",
       "      <th></th>\n",
       "      <th></th>\n",
       "      <th></th>\n",
       "      <th></th>\n",
       "      <th></th>\n",
       "      <th></th>\n",
       "      <th></th>\n",
       "      <th></th>\n",
       "      <th></th>\n",
       "      <th></th>\n",
       "      <th></th>\n",
       "      <th></th>\n",
       "      <th></th>\n",
       "      <th></th>\n",
       "    </tr>\n",
       "  </thead>\n",
       "  <tbody>\n",
       "    <tr>\n",
       "      <th>Lebron_James</th>\n",
       "      <td>23</td>\n",
       "      <td>10/17/2017</td>\n",
       "      <td>TUESDAY</td>\n",
       "      <td>Boston_Celtics</td>\n",
       "      <td>1</td>\n",
       "      <td>41</td>\n",
       "      <td>29</td>\n",
       "      <td>12</td>\n",
       "      <td>19</td>\n",
       "      <td>63.2</td>\n",
       "      <td>...</td>\n",
       "      <td>1</td>\n",
       "      <td>15</td>\n",
       "      <td>16</td>\n",
       "      <td>9</td>\n",
       "      <td>4</td>\n",
       "      <td>0</td>\n",
       "      <td>2</td>\n",
       "      <td>3</td>\n",
       "      <td>2</td>\n",
       "      <td>1</td>\n",
       "    </tr>\n",
       "    <tr>\n",
       "      <th>Lebron_James</th>\n",
       "      <td>23</td>\n",
       "      <td>10/20/2017</td>\n",
       "      <td>FRIDAY</td>\n",
       "      <td>Milwaukee_Bucks</td>\n",
       "      <td>0</td>\n",
       "      <td>37</td>\n",
       "      <td>24</td>\n",
       "      <td>10</td>\n",
       "      <td>16</td>\n",
       "      <td>62.5</td>\n",
       "      <td>...</td>\n",
       "      <td>1</td>\n",
       "      <td>4</td>\n",
       "      <td>5</td>\n",
       "      <td>8</td>\n",
       "      <td>5</td>\n",
       "      <td>1</td>\n",
       "      <td>1</td>\n",
       "      <td>1</td>\n",
       "      <td>13</td>\n",
       "      <td>1</td>\n",
       "    </tr>\n",
       "    <tr>\n",
       "      <th>Lebron_James</th>\n",
       "      <td>23</td>\n",
       "      <td>10/22/2017</td>\n",
       "      <td>SUNDAY</td>\n",
       "      <td>Orlando_Magic</td>\n",
       "      <td>1</td>\n",
       "      <td>31</td>\n",
       "      <td>22</td>\n",
       "      <td>8</td>\n",
       "      <td>15</td>\n",
       "      <td>53.3</td>\n",
       "      <td>...</td>\n",
       "      <td>0</td>\n",
       "      <td>4</td>\n",
       "      <td>4</td>\n",
       "      <td>2</td>\n",
       "      <td>1</td>\n",
       "      <td>1</td>\n",
       "      <td>1</td>\n",
       "      <td>0</td>\n",
       "      <td>-31</td>\n",
       "      <td>0</td>\n",
       "    </tr>\n",
       "    <tr>\n",
       "      <th>Lebron_James</th>\n",
       "      <td>23</td>\n",
       "      <td>10/24/2017</td>\n",
       "      <td>TUESDAY</td>\n",
       "      <td>Chicago_Bulls</td>\n",
       "      <td>1</td>\n",
       "      <td>37</td>\n",
       "      <td>34</td>\n",
       "      <td>13</td>\n",
       "      <td>20</td>\n",
       "      <td>65.0</td>\n",
       "      <td>...</td>\n",
       "      <td>0</td>\n",
       "      <td>2</td>\n",
       "      <td>2</td>\n",
       "      <td>13</td>\n",
       "      <td>2</td>\n",
       "      <td>3</td>\n",
       "      <td>0</td>\n",
       "      <td>1</td>\n",
       "      <td>7</td>\n",
       "      <td>1</td>\n",
       "    </tr>\n",
       "    <tr>\n",
       "      <th>Lebron_James</th>\n",
       "      <td>23</td>\n",
       "      <td>10/25/2017</td>\n",
       "      <td>WEDNESDAY</td>\n",
       "      <td>Brooklyn_Nets</td>\n",
       "      <td>0</td>\n",
       "      <td>41</td>\n",
       "      <td>29</td>\n",
       "      <td>12</td>\n",
       "      <td>20</td>\n",
       "      <td>60.0</td>\n",
       "      <td>...</td>\n",
       "      <td>1</td>\n",
       "      <td>9</td>\n",
       "      <td>10</td>\n",
       "      <td>13</td>\n",
       "      <td>8</td>\n",
       "      <td>0</td>\n",
       "      <td>4</td>\n",
       "      <td>1</td>\n",
       "      <td>-2</td>\n",
       "      <td>0</td>\n",
       "    </tr>\n",
       "  </tbody>\n",
       "</table>\n",
       "<p>5 rows × 26 columns</p>\n",
       "</div>"
      ],
      "text/plain": [
       "              jersey  number   GAME DATE        DAY         OPPONENT  \\\n",
       "PLAYER                                                                 \n",
       "Lebron_James              23  10/17/2017    TUESDAY   Boston_Celtics   \n",
       "Lebron_James              23  10/20/2017     FRIDAY  Milwaukee_Bucks   \n",
       "Lebron_James              23  10/22/2017     SUNDAY    Orlando_Magic   \n",
       "Lebron_James              23  10/24/2017    TUESDAY    Chicago_Bulls   \n",
       "Lebron_James              23  10/25/2017  WEDNESDAY    Brooklyn_Nets   \n",
       "\n",
       "              HOMEGAME  MIN  PTS  FGM  FGA   FG%     ...       OFREB  DFREB  \\\n",
       "PLAYER                                               ...                      \n",
       "Lebron_James         1   41   29   12   19  63.2     ...           1     15   \n",
       "Lebron_James         0   37   24   10   16  62.5     ...           1      4   \n",
       "Lebron_James         1   31   22    8   15  53.3     ...           0      4   \n",
       "Lebron_James         1   37   34   13   20  65.0     ...           0      2   \n",
       "Lebron_James         0   41   29   12   20  60.0     ...           1      9   \n",
       "\n",
       "              REB  AST  TOV  STL  BLKS  PF  DF  GAME_RESULT  \n",
       "PLAYER                                                       \n",
       "Lebron_James   16    9    4    0     2   3   2            1  \n",
       "Lebron_James    5    8    5    1     1   1  13            1  \n",
       "Lebron_James    4    2    1    1     1   0 -31            0  \n",
       "Lebron_James    2   13    2    3     0   1   7            1  \n",
       "Lebron_James   10   13    8    0     4   1  -2            0  \n",
       "\n",
       "[5 rows x 26 columns]"
      ]
     },
     "execution_count": 130,
     "metadata": {},
     "output_type": "execute_result"
    }
   ],
   "source": [
    "Lebron_James.head()"
   ]
  },
  {
   "cell_type": "code",
   "execution_count": 76,
   "metadata": {},
   "outputs": [
    {
     "ename": "IndexError",
     "evalue": "0",
     "output_type": "error",
     "traceback": [
      "\u001b[1;31m---------------------------------------------------------------------------\u001b[0m",
      "\u001b[1;31mTypeError\u001b[0m                                 Traceback (most recent call last)",
      "\u001b[1;32mC:\\Users\\aksha\\AppData\\Local\\Continuum\\Anaconda3\\lib\\site-packages\\pandas\\core\\indexes\\base.py\u001b[0m in \u001b[0;36mget_value\u001b[1;34m(self, series, key)\u001b[0m\n\u001b[0;32m   2427\u001b[0m             return self._engine.get_value(s, k,\n\u001b[1;32m-> 2428\u001b[1;33m                                           tz=getattr(series.dtype, 'tz', None))\n\u001b[0m\u001b[0;32m   2429\u001b[0m         \u001b[1;32mexcept\u001b[0m \u001b[0mKeyError\u001b[0m \u001b[1;32mas\u001b[0m \u001b[0me1\u001b[0m\u001b[1;33m:\u001b[0m\u001b[1;33m\u001b[0m\u001b[0m\n",
      "\u001b[1;32mpandas\\_libs\\index.pyx\u001b[0m in \u001b[0;36mpandas._libs.index.IndexEngine.get_value (pandas\\_libs\\index.c:4363)\u001b[1;34m()\u001b[0m\n",
      "\u001b[1;32mpandas\\_libs\\index.pyx\u001b[0m in \u001b[0;36mpandas._libs.index.IndexEngine.get_value (pandas\\_libs\\index.c:4046)\u001b[1;34m()\u001b[0m\n",
      "\u001b[1;32mpandas\\_libs\\index.pyx\u001b[0m in \u001b[0;36mpandas._libs.index.IndexEngine.get_loc (pandas\\_libs\\index.c:5022)\u001b[1;34m()\u001b[0m\n",
      "\u001b[1;32mpandas\\_libs\\index.pyx\u001b[0m in \u001b[0;36mpandas._libs.index.IndexEngine._get_loc_duplicates (pandas\\_libs\\index.c:5321)\u001b[1;34m()\u001b[0m\n",
      "\u001b[1;31mTypeError\u001b[0m: '>' not supported between instances of 'str' and 'int'",
      "\nDuring handling of the above exception, another exception occurred:\n",
      "\u001b[1;31mIndexError\u001b[0m                                Traceback (most recent call last)",
      "\u001b[1;32m<ipython-input-76-dd305c7ebc2f>\u001b[0m in \u001b[0;36m<module>\u001b[1;34m()\u001b[0m\n\u001b[0;32m      2\u001b[0m \u001b[1;31m#plt.figure(figsize=(50, 15))\u001b[0m\u001b[1;33m\u001b[0m\u001b[1;33m\u001b[0m\u001b[0m\n\u001b[0;32m      3\u001b[0m \u001b[0mplt\u001b[0m\u001b[1;33m.\u001b[0m\u001b[0msubplot\u001b[0m\u001b[1;33m(\u001b[0m\u001b[1;36m2\u001b[0m\u001b[1;33m,\u001b[0m\u001b[1;36m5\u001b[0m\u001b[1;33m,\u001b[0m\u001b[1;36m1\u001b[0m\u001b[1;33m)\u001b[0m\u001b[1;33m\u001b[0m\u001b[0m\n\u001b[1;32m----> 4\u001b[1;33m \u001b[0mplt\u001b[0m\u001b[1;33m.\u001b[0m\u001b[0mbar\u001b[0m\u001b[1;33m(\u001b[0m\u001b[0mLebron_James\u001b[0m\u001b[1;33m[\u001b[0m\u001b[1;34m'OPPONENT'\u001b[0m\u001b[1;33m]\u001b[0m\u001b[1;33m,\u001b[0m\u001b[0mLebron_James\u001b[0m\u001b[1;33m[\u001b[0m\u001b[1;34m'PTS'\u001b[0m\u001b[1;33m]\u001b[0m\u001b[1;33m,\u001b[0m\u001b[0malign\u001b[0m\u001b[1;33m=\u001b[0m\u001b[1;34m'center'\u001b[0m\u001b[1;33m,\u001b[0m\u001b[0mwidth\u001b[0m\u001b[1;33m=\u001b[0m\u001b[1;36m0.5\u001b[0m\u001b[1;33m)\u001b[0m\u001b[1;33m\u001b[0m\u001b[0m\n\u001b[0m\u001b[0;32m      5\u001b[0m \u001b[0mplt\u001b[0m\u001b[1;33m.\u001b[0m\u001b[0mxlabel\u001b[0m\u001b[1;33m(\u001b[0m\u001b[1;34m'TEAMS'\u001b[0m\u001b[1;33m)\u001b[0m\u001b[1;33m\u001b[0m\u001b[0m\n\u001b[0;32m      6\u001b[0m \u001b[0mplt\u001b[0m\u001b[1;33m.\u001b[0m\u001b[0mylabel\u001b[0m\u001b[1;33m(\u001b[0m\u001b[1;34m'POINTS_SCORED'\u001b[0m\u001b[1;33m)\u001b[0m\u001b[1;33m\u001b[0m\u001b[0m\n",
      "\u001b[1;32mC:\\Users\\aksha\\AppData\\Local\\Continuum\\Anaconda3\\lib\\site-packages\\matplotlib\\pyplot.py\u001b[0m in \u001b[0;36mbar\u001b[1;34m(left, height, width, bottom, hold, data, **kwargs)\u001b[0m\n\u001b[0;32m   2702\u001b[0m     \u001b[1;32mtry\u001b[0m\u001b[1;33m:\u001b[0m\u001b[1;33m\u001b[0m\u001b[0m\n\u001b[0;32m   2703\u001b[0m         ret = ax.bar(left, height, width=width, bottom=bottom, data=data,\n\u001b[1;32m-> 2704\u001b[1;33m                      **kwargs)\n\u001b[0m\u001b[0;32m   2705\u001b[0m     \u001b[1;32mfinally\u001b[0m\u001b[1;33m:\u001b[0m\u001b[1;33m\u001b[0m\u001b[0m\n\u001b[0;32m   2706\u001b[0m         \u001b[0max\u001b[0m\u001b[1;33m.\u001b[0m\u001b[0m_hold\u001b[0m \u001b[1;33m=\u001b[0m \u001b[0mwashold\u001b[0m\u001b[1;33m\u001b[0m\u001b[0m\n",
      "\u001b[1;32mC:\\Users\\aksha\\AppData\\Local\\Continuum\\Anaconda3\\lib\\site-packages\\matplotlib\\__init__.py\u001b[0m in \u001b[0;36minner\u001b[1;34m(ax, *args, **kwargs)\u001b[0m\n\u001b[0;32m   1895\u001b[0m                     warnings.warn(msg % (label_namer, func.__name__),\n\u001b[0;32m   1896\u001b[0m                                   RuntimeWarning, stacklevel=2)\n\u001b[1;32m-> 1897\u001b[1;33m             \u001b[1;32mreturn\u001b[0m \u001b[0mfunc\u001b[0m\u001b[1;33m(\u001b[0m\u001b[0max\u001b[0m\u001b[1;33m,\u001b[0m \u001b[1;33m*\u001b[0m\u001b[0margs\u001b[0m\u001b[1;33m,\u001b[0m \u001b[1;33m**\u001b[0m\u001b[0mkwargs\u001b[0m\u001b[1;33m)\u001b[0m\u001b[1;33m\u001b[0m\u001b[0m\n\u001b[0m\u001b[0;32m   1898\u001b[0m         \u001b[0mpre_doc\u001b[0m \u001b[1;33m=\u001b[0m \u001b[0minner\u001b[0m\u001b[1;33m.\u001b[0m\u001b[0m__doc__\u001b[0m\u001b[1;33m\u001b[0m\u001b[0m\n\u001b[0;32m   1899\u001b[0m         \u001b[1;32mif\u001b[0m \u001b[0mpre_doc\u001b[0m \u001b[1;32mis\u001b[0m \u001b[1;32mNone\u001b[0m\u001b[1;33m:\u001b[0m\u001b[1;33m\u001b[0m\u001b[0m\n",
      "\u001b[1;32mC:\\Users\\aksha\\AppData\\Local\\Continuum\\Anaconda3\\lib\\site-packages\\matplotlib\\axes\\_axes.py\u001b[0m in \u001b[0;36mbar\u001b[1;34m(self, left, height, width, bottom, **kwargs)\u001b[0m\n\u001b[0;32m   2103\u001b[0m         \u001b[1;32mif\u001b[0m \u001b[0malign\u001b[0m \u001b[1;33m==\u001b[0m \u001b[1;34m'center'\u001b[0m\u001b[1;33m:\u001b[0m\u001b[1;33m\u001b[0m\u001b[0m\n\u001b[0;32m   2104\u001b[0m             \u001b[1;32mif\u001b[0m \u001b[0morientation\u001b[0m \u001b[1;33m==\u001b[0m \u001b[1;34m'vertical'\u001b[0m\u001b[1;33m:\u001b[0m\u001b[1;33m\u001b[0m\u001b[0m\n\u001b[1;32m-> 2105\u001b[1;33m                 \u001b[0mleft\u001b[0m \u001b[1;33m=\u001b[0m \u001b[1;33m[\u001b[0m\u001b[0mleft\u001b[0m\u001b[1;33m[\u001b[0m\u001b[0mi\u001b[0m\u001b[1;33m]\u001b[0m \u001b[1;33m-\u001b[0m \u001b[0mwidth\u001b[0m\u001b[1;33m[\u001b[0m\u001b[0mi\u001b[0m\u001b[1;33m]\u001b[0m \u001b[1;33m/\u001b[0m \u001b[1;36m2.\u001b[0m \u001b[1;32mfor\u001b[0m \u001b[0mi\u001b[0m \u001b[1;32min\u001b[0m \u001b[0mxrange\u001b[0m\u001b[1;33m(\u001b[0m\u001b[0mlen\u001b[0m\u001b[1;33m(\u001b[0m\u001b[0mleft\u001b[0m\u001b[1;33m)\u001b[0m\u001b[1;33m)\u001b[0m\u001b[1;33m]\u001b[0m\u001b[1;33m\u001b[0m\u001b[0m\n\u001b[0m\u001b[0;32m   2106\u001b[0m             \u001b[1;32melif\u001b[0m \u001b[0morientation\u001b[0m \u001b[1;33m==\u001b[0m \u001b[1;34m'horizontal'\u001b[0m\u001b[1;33m:\u001b[0m\u001b[1;33m\u001b[0m\u001b[0m\n\u001b[0;32m   2107\u001b[0m                 bottom = [bottom[i] - height[i] / 2.\n",
      "\u001b[1;32mC:\\Users\\aksha\\AppData\\Local\\Continuum\\Anaconda3\\lib\\site-packages\\matplotlib\\axes\\_axes.py\u001b[0m in \u001b[0;36m<listcomp>\u001b[1;34m(.0)\u001b[0m\n\u001b[0;32m   2103\u001b[0m         \u001b[1;32mif\u001b[0m \u001b[0malign\u001b[0m \u001b[1;33m==\u001b[0m \u001b[1;34m'center'\u001b[0m\u001b[1;33m:\u001b[0m\u001b[1;33m\u001b[0m\u001b[0m\n\u001b[0;32m   2104\u001b[0m             \u001b[1;32mif\u001b[0m \u001b[0morientation\u001b[0m \u001b[1;33m==\u001b[0m \u001b[1;34m'vertical'\u001b[0m\u001b[1;33m:\u001b[0m\u001b[1;33m\u001b[0m\u001b[0m\n\u001b[1;32m-> 2105\u001b[1;33m                 \u001b[0mleft\u001b[0m \u001b[1;33m=\u001b[0m \u001b[1;33m[\u001b[0m\u001b[0mleft\u001b[0m\u001b[1;33m[\u001b[0m\u001b[0mi\u001b[0m\u001b[1;33m]\u001b[0m \u001b[1;33m-\u001b[0m \u001b[0mwidth\u001b[0m\u001b[1;33m[\u001b[0m\u001b[0mi\u001b[0m\u001b[1;33m]\u001b[0m \u001b[1;33m/\u001b[0m \u001b[1;36m2.\u001b[0m \u001b[1;32mfor\u001b[0m \u001b[0mi\u001b[0m \u001b[1;32min\u001b[0m \u001b[0mxrange\u001b[0m\u001b[1;33m(\u001b[0m\u001b[0mlen\u001b[0m\u001b[1;33m(\u001b[0m\u001b[0mleft\u001b[0m\u001b[1;33m)\u001b[0m\u001b[1;33m)\u001b[0m\u001b[1;33m]\u001b[0m\u001b[1;33m\u001b[0m\u001b[0m\n\u001b[0m\u001b[0;32m   2106\u001b[0m             \u001b[1;32melif\u001b[0m \u001b[0morientation\u001b[0m \u001b[1;33m==\u001b[0m \u001b[1;34m'horizontal'\u001b[0m\u001b[1;33m:\u001b[0m\u001b[1;33m\u001b[0m\u001b[0m\n\u001b[0;32m   2107\u001b[0m                 bottom = [bottom[i] - height[i] / 2.\n",
      "\u001b[1;32mC:\\Users\\aksha\\AppData\\Local\\Continuum\\Anaconda3\\lib\\site-packages\\pandas\\core\\series.py\u001b[0m in \u001b[0;36m__getitem__\u001b[1;34m(self, key)\u001b[0m\n\u001b[0;32m    599\u001b[0m         \u001b[0mkey\u001b[0m \u001b[1;33m=\u001b[0m \u001b[0mcom\u001b[0m\u001b[1;33m.\u001b[0m\u001b[0m_apply_if_callable\u001b[0m\u001b[1;33m(\u001b[0m\u001b[0mkey\u001b[0m\u001b[1;33m,\u001b[0m \u001b[0mself\u001b[0m\u001b[1;33m)\u001b[0m\u001b[1;33m\u001b[0m\u001b[0m\n\u001b[0;32m    600\u001b[0m         \u001b[1;32mtry\u001b[0m\u001b[1;33m:\u001b[0m\u001b[1;33m\u001b[0m\u001b[0m\n\u001b[1;32m--> 601\u001b[1;33m             \u001b[0mresult\u001b[0m \u001b[1;33m=\u001b[0m \u001b[0mself\u001b[0m\u001b[1;33m.\u001b[0m\u001b[0mindex\u001b[0m\u001b[1;33m.\u001b[0m\u001b[0mget_value\u001b[0m\u001b[1;33m(\u001b[0m\u001b[0mself\u001b[0m\u001b[1;33m,\u001b[0m \u001b[0mkey\u001b[0m\u001b[1;33m)\u001b[0m\u001b[1;33m\u001b[0m\u001b[0m\n\u001b[0m\u001b[0;32m    602\u001b[0m \u001b[1;33m\u001b[0m\u001b[0m\n\u001b[0;32m    603\u001b[0m             \u001b[1;32mif\u001b[0m \u001b[1;32mnot\u001b[0m \u001b[0mis_scalar\u001b[0m\u001b[1;33m(\u001b[0m\u001b[0mresult\u001b[0m\u001b[1;33m)\u001b[0m\u001b[1;33m:\u001b[0m\u001b[1;33m\u001b[0m\u001b[0m\n",
      "\u001b[1;32mC:\\Users\\aksha\\AppData\\Local\\Continuum\\Anaconda3\\lib\\site-packages\\pandas\\core\\indexes\\base.py\u001b[0m in \u001b[0;36mget_value\u001b[1;34m(self, series, key)\u001b[0m\n\u001b[0;32m   2446\u001b[0m             \u001b[1;31m# python 3\u001b[0m\u001b[1;33m\u001b[0m\u001b[1;33m\u001b[0m\u001b[0m\n\u001b[0;32m   2447\u001b[0m             \u001b[1;32mif\u001b[0m \u001b[0mis_scalar\u001b[0m\u001b[1;33m(\u001b[0m\u001b[0mkey\u001b[0m\u001b[1;33m)\u001b[0m\u001b[1;33m:\u001b[0m  \u001b[1;31m# pragma: no cover\u001b[0m\u001b[1;33m\u001b[0m\u001b[0m\n\u001b[1;32m-> 2448\u001b[1;33m                 \u001b[1;32mraise\u001b[0m \u001b[0mIndexError\u001b[0m\u001b[1;33m(\u001b[0m\u001b[0mkey\u001b[0m\u001b[1;33m)\u001b[0m\u001b[1;33m\u001b[0m\u001b[0m\n\u001b[0m\u001b[0;32m   2449\u001b[0m             \u001b[1;32mraise\u001b[0m \u001b[0mInvalidIndexError\u001b[0m\u001b[1;33m(\u001b[0m\u001b[0mkey\u001b[0m\u001b[1;33m)\u001b[0m\u001b[1;33m\u001b[0m\u001b[0m\n\u001b[0;32m   2450\u001b[0m \u001b[1;33m\u001b[0m\u001b[0m\n",
      "\u001b[1;31mIndexError\u001b[0m: 0"
     ]
    }
   ],
   "source": [
    "fig=plt.figure(figsize=(170,30))\n",
    "#plt.figure(figsize=(50, 15))\n",
    "plt.subplot(2,5,1)\n",
    "plt.bar(Lebron_James['OPPONENT'],Lebron_James['PTS'],align='center',width=0.5)\n",
    "plt.xlabel('TEAMS')\n",
    "plt.ylabel('POINTS_SCORED')\n",
    "plt.title('LEBRONS SCORE GRAPH')\n",
    "\n",
    "plt.subplot(2,5,2)\n",
    "plt.bar(Kevin_Love['OPPONENT'],Kevin_Love['PTS'],align='center',width=0.5)\n",
    "plt.xlabel('TEAMS')\n",
    "plt.ylabel('POINTS_SCORED')\n",
    "plt.title('LOVES SCORE GRAPH')\n",
    "\n",
    "plt.subplot(2,5,3)\n",
    "plt.bar(Derrick_Rose['OPPONENT'],Derrick_Rose['PTS'],align='center',width=0.5)\n",
    "plt.xlabel('TEAMS')\n",
    "plt.ylabel('POINTS_SCORED')\n",
    "plt.title('ROSES SCORE GRAPH')\n",
    "\n",
    "plt.subplot(2,5,4)\n",
    "plt.bar(Dwyane_Wade['OPPONENT'],Dwyane_Wade['PTS'],align='center',width=0.5)\n",
    "plt.xlabel('TEAMS')\n",
    "plt.ylabel('POINTS_SCORED')\n",
    "plt.title('WADES SCORE GRAPH')\n",
    "\n",
    "plt.subplot(2,5,5)\n",
    "plt.bar(Jr_Smith['OPPONENT'],Jr_Smith['PTS'],align='center',width=0.5)\n",
    "plt.xlabel('TEAMS')\n",
    "plt.ylabel('POINTS_SCORED')\n",
    "plt.title('SMITHS SCORE GRAPH')\n",
    "\n",
    "plt.subplot(2,5,6)\n",
    "plt.bar(Kyle_Korver['OPPONENT'],Kyle_Korver['PTS'],align='center',width=0.5)\n",
    "plt.xlabel('TEAMS')\n",
    "plt.ylabel('POINTS_SCORED')\n",
    "plt.title('KORVERS SCORE GRAPH')\n",
    "\n",
    "plt.subplot(2,5,7)\n",
    "plt.bar(Jae_Crowder['OPPONENT'],Jae_Crowder['PTS'],align='center',width=0.5)\n",
    "plt.xlabel('TEAMS')\n",
    "plt.ylabel('POINTS_SCORED')\n",
    "plt.title('Crowders SCORE GRAPH')\n",
    "\n",
    "\n",
    "plt.subplot(2,5,8)\n",
    "plt.bar(Iman_Shumpert['OPPONENT'],Iman_Shumpert['PTS'],align='center',width=0.5)\n",
    "plt.xlabel('TEAMS')\n",
    "plt.ylabel('POINTS_SCORED')\n",
    "plt.title('Shumperts SCORE GRAPH')\n",
    "\n",
    "plt.subplot(2,5,9)\n",
    "plt.bar(Jeff_Green['OPPONENT'],Jeff_Green['PTS'],align='center',width=0.5)\n",
    "plt.xlabel('TEAMS')\n",
    "plt.ylabel('POINTS_SCORED')\n",
    "plt.title('Greens SCORE GRAPH')\n",
    "\n",
    "plt.subplot(2,5,10)\n",
    "plt.bar(Tristan_Thompson['OPPONENT'],Tristan_Thompson['PTS'],align='center',width=0.5)\n",
    "plt.xlabel('TEAMS')\n",
    "plt.ylabel('POINTS_SCORED')\n",
    "plt.title('Greens SCORE GRAPH')\n",
    "\n",
    "\n",
    "plt.show()"
   ]
  },
  {
   "cell_type": "code",
   "execution_count": 77,
   "metadata": {},
   "outputs": [
    {
     "ename": "KeyError",
     "evalue": "'STATE'",
     "output_type": "error",
     "traceback": [
      "\u001b[1;31m---------------------------------------------------------------------------\u001b[0m",
      "\u001b[1;31mKeyError\u001b[0m                                  Traceback (most recent call last)",
      "\u001b[1;32mC:\\Users\\aksha\\AppData\\Local\\Continuum\\Anaconda3\\lib\\site-packages\\pandas\\core\\indexes\\base.py\u001b[0m in \u001b[0;36mget_loc\u001b[1;34m(self, key, method, tolerance)\u001b[0m\n\u001b[0;32m   2392\u001b[0m             \u001b[1;32mtry\u001b[0m\u001b[1;33m:\u001b[0m\u001b[1;33m\u001b[0m\u001b[0m\n\u001b[1;32m-> 2393\u001b[1;33m                 \u001b[1;32mreturn\u001b[0m \u001b[0mself\u001b[0m\u001b[1;33m.\u001b[0m\u001b[0m_engine\u001b[0m\u001b[1;33m.\u001b[0m\u001b[0mget_loc\u001b[0m\u001b[1;33m(\u001b[0m\u001b[0mkey\u001b[0m\u001b[1;33m)\u001b[0m\u001b[1;33m\u001b[0m\u001b[0m\n\u001b[0m\u001b[0;32m   2394\u001b[0m             \u001b[1;32mexcept\u001b[0m \u001b[0mKeyError\u001b[0m\u001b[1;33m:\u001b[0m\u001b[1;33m\u001b[0m\u001b[0m\n",
      "\u001b[1;32mpandas\\_libs\\index.pyx\u001b[0m in \u001b[0;36mpandas._libs.index.IndexEngine.get_loc (pandas\\_libs\\index.c:5239)\u001b[1;34m()\u001b[0m\n",
      "\u001b[1;32mpandas\\_libs\\index.pyx\u001b[0m in \u001b[0;36mpandas._libs.index.IndexEngine.get_loc (pandas\\_libs\\index.c:5085)\u001b[1;34m()\u001b[0m\n",
      "\u001b[1;32mpandas\\_libs\\hashtable_class_helper.pxi\u001b[0m in \u001b[0;36mpandas._libs.hashtable.PyObjectHashTable.get_item (pandas\\_libs\\hashtable.c:20405)\u001b[1;34m()\u001b[0m\n",
      "\u001b[1;32mpandas\\_libs\\hashtable_class_helper.pxi\u001b[0m in \u001b[0;36mpandas._libs.hashtable.PyObjectHashTable.get_item (pandas\\_libs\\hashtable.c:20359)\u001b[1;34m()\u001b[0m\n",
      "\u001b[1;31mKeyError\u001b[0m: 'STATE'",
      "\nDuring handling of the above exception, another exception occurred:\n",
      "\u001b[1;31mKeyError\u001b[0m                                  Traceback (most recent call last)",
      "\u001b[1;32m<ipython-input-77-cb12b00d3d86>\u001b[0m in \u001b[0;36m<module>\u001b[1;34m()\u001b[0m\n\u001b[1;32m----> 1\u001b[1;33m \u001b[0mstates\u001b[0m\u001b[1;33m=\u001b[0m\u001b[0mcavs\u001b[0m\u001b[1;33m.\u001b[0m\u001b[0mset_index\u001b[0m\u001b[1;33m(\u001b[0m\u001b[1;34m'STATE'\u001b[0m\u001b[1;33m)\u001b[0m\u001b[1;33m\u001b[0m\u001b[0m\n\u001b[0m",
      "\u001b[1;32mC:\\Users\\aksha\\AppData\\Local\\Continuum\\Anaconda3\\lib\\site-packages\\pandas\\core\\frame.py\u001b[0m in \u001b[0;36mset_index\u001b[1;34m(self, keys, drop, append, inplace, verify_integrity)\u001b[0m\n\u001b[0;32m   2926\u001b[0m                 \u001b[0mnames\u001b[0m\u001b[1;33m.\u001b[0m\u001b[0mappend\u001b[0m\u001b[1;33m(\u001b[0m\u001b[1;32mNone\u001b[0m\u001b[1;33m)\u001b[0m\u001b[1;33m\u001b[0m\u001b[0m\n\u001b[0;32m   2927\u001b[0m             \u001b[1;32melse\u001b[0m\u001b[1;33m:\u001b[0m\u001b[1;33m\u001b[0m\u001b[0m\n\u001b[1;32m-> 2928\u001b[1;33m                 \u001b[0mlevel\u001b[0m \u001b[1;33m=\u001b[0m \u001b[0mframe\u001b[0m\u001b[1;33m[\u001b[0m\u001b[0mcol\u001b[0m\u001b[1;33m]\u001b[0m\u001b[1;33m.\u001b[0m\u001b[0m_values\u001b[0m\u001b[1;33m\u001b[0m\u001b[0m\n\u001b[0m\u001b[0;32m   2929\u001b[0m                 \u001b[0mnames\u001b[0m\u001b[1;33m.\u001b[0m\u001b[0mappend\u001b[0m\u001b[1;33m(\u001b[0m\u001b[0mcol\u001b[0m\u001b[1;33m)\u001b[0m\u001b[1;33m\u001b[0m\u001b[0m\n\u001b[0;32m   2930\u001b[0m                 \u001b[1;32mif\u001b[0m \u001b[0mdrop\u001b[0m\u001b[1;33m:\u001b[0m\u001b[1;33m\u001b[0m\u001b[0m\n",
      "\u001b[1;32mC:\\Users\\aksha\\AppData\\Local\\Continuum\\Anaconda3\\lib\\site-packages\\pandas\\core\\frame.py\u001b[0m in \u001b[0;36m__getitem__\u001b[1;34m(self, key)\u001b[0m\n\u001b[0;32m   2060\u001b[0m             \u001b[1;32mreturn\u001b[0m \u001b[0mself\u001b[0m\u001b[1;33m.\u001b[0m\u001b[0m_getitem_multilevel\u001b[0m\u001b[1;33m(\u001b[0m\u001b[0mkey\u001b[0m\u001b[1;33m)\u001b[0m\u001b[1;33m\u001b[0m\u001b[0m\n\u001b[0;32m   2061\u001b[0m         \u001b[1;32melse\u001b[0m\u001b[1;33m:\u001b[0m\u001b[1;33m\u001b[0m\u001b[0m\n\u001b[1;32m-> 2062\u001b[1;33m             \u001b[1;32mreturn\u001b[0m \u001b[0mself\u001b[0m\u001b[1;33m.\u001b[0m\u001b[0m_getitem_column\u001b[0m\u001b[1;33m(\u001b[0m\u001b[0mkey\u001b[0m\u001b[1;33m)\u001b[0m\u001b[1;33m\u001b[0m\u001b[0m\n\u001b[0m\u001b[0;32m   2063\u001b[0m \u001b[1;33m\u001b[0m\u001b[0m\n\u001b[0;32m   2064\u001b[0m     \u001b[1;32mdef\u001b[0m \u001b[0m_getitem_column\u001b[0m\u001b[1;33m(\u001b[0m\u001b[0mself\u001b[0m\u001b[1;33m,\u001b[0m \u001b[0mkey\u001b[0m\u001b[1;33m)\u001b[0m\u001b[1;33m:\u001b[0m\u001b[1;33m\u001b[0m\u001b[0m\n",
      "\u001b[1;32mC:\\Users\\aksha\\AppData\\Local\\Continuum\\Anaconda3\\lib\\site-packages\\pandas\\core\\frame.py\u001b[0m in \u001b[0;36m_getitem_column\u001b[1;34m(self, key)\u001b[0m\n\u001b[0;32m   2067\u001b[0m         \u001b[1;31m# get column\u001b[0m\u001b[1;33m\u001b[0m\u001b[1;33m\u001b[0m\u001b[0m\n\u001b[0;32m   2068\u001b[0m         \u001b[1;32mif\u001b[0m \u001b[0mself\u001b[0m\u001b[1;33m.\u001b[0m\u001b[0mcolumns\u001b[0m\u001b[1;33m.\u001b[0m\u001b[0mis_unique\u001b[0m\u001b[1;33m:\u001b[0m\u001b[1;33m\u001b[0m\u001b[0m\n\u001b[1;32m-> 2069\u001b[1;33m             \u001b[1;32mreturn\u001b[0m \u001b[0mself\u001b[0m\u001b[1;33m.\u001b[0m\u001b[0m_get_item_cache\u001b[0m\u001b[1;33m(\u001b[0m\u001b[0mkey\u001b[0m\u001b[1;33m)\u001b[0m\u001b[1;33m\u001b[0m\u001b[0m\n\u001b[0m\u001b[0;32m   2070\u001b[0m \u001b[1;33m\u001b[0m\u001b[0m\n\u001b[0;32m   2071\u001b[0m         \u001b[1;31m# duplicate columns & possible reduce dimensionality\u001b[0m\u001b[1;33m\u001b[0m\u001b[1;33m\u001b[0m\u001b[0m\n",
      "\u001b[1;32mC:\\Users\\aksha\\AppData\\Local\\Continuum\\Anaconda3\\lib\\site-packages\\pandas\\core\\generic.py\u001b[0m in \u001b[0;36m_get_item_cache\u001b[1;34m(self, item)\u001b[0m\n\u001b[0;32m   1532\u001b[0m         \u001b[0mres\u001b[0m \u001b[1;33m=\u001b[0m \u001b[0mcache\u001b[0m\u001b[1;33m.\u001b[0m\u001b[0mget\u001b[0m\u001b[1;33m(\u001b[0m\u001b[0mitem\u001b[0m\u001b[1;33m)\u001b[0m\u001b[1;33m\u001b[0m\u001b[0m\n\u001b[0;32m   1533\u001b[0m         \u001b[1;32mif\u001b[0m \u001b[0mres\u001b[0m \u001b[1;32mis\u001b[0m \u001b[1;32mNone\u001b[0m\u001b[1;33m:\u001b[0m\u001b[1;33m\u001b[0m\u001b[0m\n\u001b[1;32m-> 1534\u001b[1;33m             \u001b[0mvalues\u001b[0m \u001b[1;33m=\u001b[0m \u001b[0mself\u001b[0m\u001b[1;33m.\u001b[0m\u001b[0m_data\u001b[0m\u001b[1;33m.\u001b[0m\u001b[0mget\u001b[0m\u001b[1;33m(\u001b[0m\u001b[0mitem\u001b[0m\u001b[1;33m)\u001b[0m\u001b[1;33m\u001b[0m\u001b[0m\n\u001b[0m\u001b[0;32m   1535\u001b[0m             \u001b[0mres\u001b[0m \u001b[1;33m=\u001b[0m \u001b[0mself\u001b[0m\u001b[1;33m.\u001b[0m\u001b[0m_box_item_values\u001b[0m\u001b[1;33m(\u001b[0m\u001b[0mitem\u001b[0m\u001b[1;33m,\u001b[0m \u001b[0mvalues\u001b[0m\u001b[1;33m)\u001b[0m\u001b[1;33m\u001b[0m\u001b[0m\n\u001b[0;32m   1536\u001b[0m             \u001b[0mcache\u001b[0m\u001b[1;33m[\u001b[0m\u001b[0mitem\u001b[0m\u001b[1;33m]\u001b[0m \u001b[1;33m=\u001b[0m \u001b[0mres\u001b[0m\u001b[1;33m\u001b[0m\u001b[0m\n",
      "\u001b[1;32mC:\\Users\\aksha\\AppData\\Local\\Continuum\\Anaconda3\\lib\\site-packages\\pandas\\core\\internals.py\u001b[0m in \u001b[0;36mget\u001b[1;34m(self, item, fastpath)\u001b[0m\n\u001b[0;32m   3588\u001b[0m \u001b[1;33m\u001b[0m\u001b[0m\n\u001b[0;32m   3589\u001b[0m             \u001b[1;32mif\u001b[0m \u001b[1;32mnot\u001b[0m \u001b[0misnull\u001b[0m\u001b[1;33m(\u001b[0m\u001b[0mitem\u001b[0m\u001b[1;33m)\u001b[0m\u001b[1;33m:\u001b[0m\u001b[1;33m\u001b[0m\u001b[0m\n\u001b[1;32m-> 3590\u001b[1;33m                 \u001b[0mloc\u001b[0m \u001b[1;33m=\u001b[0m \u001b[0mself\u001b[0m\u001b[1;33m.\u001b[0m\u001b[0mitems\u001b[0m\u001b[1;33m.\u001b[0m\u001b[0mget_loc\u001b[0m\u001b[1;33m(\u001b[0m\u001b[0mitem\u001b[0m\u001b[1;33m)\u001b[0m\u001b[1;33m\u001b[0m\u001b[0m\n\u001b[0m\u001b[0;32m   3591\u001b[0m             \u001b[1;32melse\u001b[0m\u001b[1;33m:\u001b[0m\u001b[1;33m\u001b[0m\u001b[0m\n\u001b[0;32m   3592\u001b[0m                 \u001b[0mindexer\u001b[0m \u001b[1;33m=\u001b[0m \u001b[0mnp\u001b[0m\u001b[1;33m.\u001b[0m\u001b[0marange\u001b[0m\u001b[1;33m(\u001b[0m\u001b[0mlen\u001b[0m\u001b[1;33m(\u001b[0m\u001b[0mself\u001b[0m\u001b[1;33m.\u001b[0m\u001b[0mitems\u001b[0m\u001b[1;33m)\u001b[0m\u001b[1;33m)\u001b[0m\u001b[1;33m[\u001b[0m\u001b[0misnull\u001b[0m\u001b[1;33m(\u001b[0m\u001b[0mself\u001b[0m\u001b[1;33m.\u001b[0m\u001b[0mitems\u001b[0m\u001b[1;33m)\u001b[0m\u001b[1;33m]\u001b[0m\u001b[1;33m\u001b[0m\u001b[0m\n",
      "\u001b[1;32mC:\\Users\\aksha\\AppData\\Local\\Continuum\\Anaconda3\\lib\\site-packages\\pandas\\core\\indexes\\base.py\u001b[0m in \u001b[0;36mget_loc\u001b[1;34m(self, key, method, tolerance)\u001b[0m\n\u001b[0;32m   2393\u001b[0m                 \u001b[1;32mreturn\u001b[0m \u001b[0mself\u001b[0m\u001b[1;33m.\u001b[0m\u001b[0m_engine\u001b[0m\u001b[1;33m.\u001b[0m\u001b[0mget_loc\u001b[0m\u001b[1;33m(\u001b[0m\u001b[0mkey\u001b[0m\u001b[1;33m)\u001b[0m\u001b[1;33m\u001b[0m\u001b[0m\n\u001b[0;32m   2394\u001b[0m             \u001b[1;32mexcept\u001b[0m \u001b[0mKeyError\u001b[0m\u001b[1;33m:\u001b[0m\u001b[1;33m\u001b[0m\u001b[0m\n\u001b[1;32m-> 2395\u001b[1;33m                 \u001b[1;32mreturn\u001b[0m \u001b[0mself\u001b[0m\u001b[1;33m.\u001b[0m\u001b[0m_engine\u001b[0m\u001b[1;33m.\u001b[0m\u001b[0mget_loc\u001b[0m\u001b[1;33m(\u001b[0m\u001b[0mself\u001b[0m\u001b[1;33m.\u001b[0m\u001b[0m_maybe_cast_indexer\u001b[0m\u001b[1;33m(\u001b[0m\u001b[0mkey\u001b[0m\u001b[1;33m)\u001b[0m\u001b[1;33m)\u001b[0m\u001b[1;33m\u001b[0m\u001b[0m\n\u001b[0m\u001b[0;32m   2396\u001b[0m \u001b[1;33m\u001b[0m\u001b[0m\n\u001b[0;32m   2397\u001b[0m         \u001b[0mindexer\u001b[0m \u001b[1;33m=\u001b[0m \u001b[0mself\u001b[0m\u001b[1;33m.\u001b[0m\u001b[0mget_indexer\u001b[0m\u001b[1;33m(\u001b[0m\u001b[1;33m[\u001b[0m\u001b[0mkey\u001b[0m\u001b[1;33m]\u001b[0m\u001b[1;33m,\u001b[0m \u001b[0mmethod\u001b[0m\u001b[1;33m=\u001b[0m\u001b[0mmethod\u001b[0m\u001b[1;33m,\u001b[0m \u001b[0mtolerance\u001b[0m\u001b[1;33m=\u001b[0m\u001b[0mtolerance\u001b[0m\u001b[1;33m)\u001b[0m\u001b[1;33m\u001b[0m\u001b[0m\n",
      "\u001b[1;32mpandas\\_libs\\index.pyx\u001b[0m in \u001b[0;36mpandas._libs.index.IndexEngine.get_loc (pandas\\_libs\\index.c:5239)\u001b[1;34m()\u001b[0m\n",
      "\u001b[1;32mpandas\\_libs\\index.pyx\u001b[0m in \u001b[0;36mpandas._libs.index.IndexEngine.get_loc (pandas\\_libs\\index.c:5085)\u001b[1;34m()\u001b[0m\n",
      "\u001b[1;32mpandas\\_libs\\hashtable_class_helper.pxi\u001b[0m in \u001b[0;36mpandas._libs.hashtable.PyObjectHashTable.get_item (pandas\\_libs\\hashtable.c:20405)\u001b[1;34m()\u001b[0m\n",
      "\u001b[1;32mpandas\\_libs\\hashtable_class_helper.pxi\u001b[0m in \u001b[0;36mpandas._libs.hashtable.PyObjectHashTable.get_item (pandas\\_libs\\hashtable.c:20359)\u001b[1;34m()\u001b[0m\n",
      "\u001b[1;31mKeyError\u001b[0m: 'STATE'"
     ]
    }
   ],
   "source": [
    "states=cavs.set_index('STATE')"
   ]
  },
  {
   "cell_type": "code",
   "execution_count": 78,
   "metadata": {},
   "outputs": [
    {
     "ename": "NameError",
     "evalue": "name 'states' is not defined",
     "output_type": "error",
     "traceback": [
      "\u001b[1;31m---------------------------------------------------------------------------\u001b[0m",
      "\u001b[1;31mNameError\u001b[0m                                 Traceback (most recent call last)",
      "\u001b[1;32m<ipython-input-78-75287df4b6a7>\u001b[0m in \u001b[0;36m<module>\u001b[1;34m()\u001b[0m\n\u001b[1;32m----> 1\u001b[1;33m \u001b[0mstates\u001b[0m\u001b[1;33m.\u001b[0m\u001b[0mhead\u001b[0m\u001b[1;33m(\u001b[0m\u001b[1;33m)\u001b[0m\u001b[1;33m\u001b[0m\u001b[0m\n\u001b[0m",
      "\u001b[1;31mNameError\u001b[0m: name 'states' is not defined"
     ]
    }
   ],
   "source": [
    "states.head()"
   ]
  },
  {
   "cell_type": "code",
   "execution_count": 79,
   "metadata": {},
   "outputs": [
    {
     "ename": "NameError",
     "evalue": "name 'states' is not defined",
     "output_type": "error",
     "traceback": [
      "\u001b[1;31m---------------------------------------------------------------------------\u001b[0m",
      "\u001b[1;31mNameError\u001b[0m                                 Traceback (most recent call last)",
      "\u001b[1;32m<ipython-input-79-1fcf7f54c236>\u001b[0m in \u001b[0;36m<module>\u001b[1;34m()\u001b[0m\n\u001b[1;32m----> 1\u001b[1;33m \u001b[0mmassachusetts\u001b[0m\u001b[1;33m=\u001b[0m\u001b[0mstates\u001b[0m\u001b[1;33m.\u001b[0m\u001b[0mloc\u001b[0m\u001b[1;33m[\u001b[0m\u001b[1;34m'massachusetts'\u001b[0m\u001b[1;33m,\u001b[0m\u001b[1;33m:\u001b[0m\u001b[1;33m]\u001b[0m\u001b[1;33m\u001b[0m\u001b[0m\n\u001b[0m\u001b[0;32m      2\u001b[0m \u001b[0mwisconsin\u001b[0m\u001b[1;33m=\u001b[0m\u001b[0mstates\u001b[0m\u001b[1;33m.\u001b[0m\u001b[0mloc\u001b[0m\u001b[1;33m[\u001b[0m\u001b[1;34m'wisconsin'\u001b[0m\u001b[1;33m,\u001b[0m\u001b[1;33m:\u001b[0m\u001b[1;33m]\u001b[0m\u001b[1;33m\u001b[0m\u001b[0m\n\u001b[0;32m      3\u001b[0m \u001b[0mflorida\u001b[0m\u001b[1;33m=\u001b[0m\u001b[0mstates\u001b[0m\u001b[1;33m.\u001b[0m\u001b[0mloc\u001b[0m\u001b[1;33m[\u001b[0m\u001b[1;34m'florida'\u001b[0m\u001b[1;33m,\u001b[0m\u001b[1;33m:\u001b[0m\u001b[1;33m]\u001b[0m\u001b[1;33m\u001b[0m\u001b[0m\n\u001b[0;32m      4\u001b[0m \u001b[0millionis\u001b[0m\u001b[1;33m=\u001b[0m\u001b[0mstates\u001b[0m\u001b[1;33m.\u001b[0m\u001b[0mloc\u001b[0m\u001b[1;33m[\u001b[0m\u001b[1;34m'illionis'\u001b[0m\u001b[1;33m,\u001b[0m\u001b[1;33m:\u001b[0m\u001b[1;33m]\u001b[0m\u001b[1;33m\u001b[0m\u001b[0m\n\u001b[0;32m      5\u001b[0m \u001b[0mlouisiana\u001b[0m\u001b[1;33m=\u001b[0m\u001b[0mstates\u001b[0m\u001b[1;33m.\u001b[0m\u001b[0mloc\u001b[0m\u001b[1;33m[\u001b[0m\u001b[1;34m'louisiana'\u001b[0m\u001b[1;33m,\u001b[0m\u001b[1;33m:\u001b[0m\u001b[1;33m]\u001b[0m\u001b[1;33m\u001b[0m\u001b[0m\n",
      "\u001b[1;31mNameError\u001b[0m: name 'states' is not defined"
     ]
    }
   ],
   "source": [
    "massachusetts=states.loc['massachusetts',:]\n",
    "wisconsin=states.loc['wisconsin',:]\n",
    "florida=states.loc['florida',:]\n",
    "illionis=states.loc['illionis',:]\n",
    "louisiana=states.loc['louisiana',:]\n",
    "Newyork=states.loc['Newyork',:]\n",
    "indiana=states.loc['indiana',:]\n",
    "washigtondc=states.loc['washigtondc',:]\n",
    "Georgia=states.loc['Georgia',:]\n",
    "Texas=states.loc['TEXAS',:]"
   ]
  },
  {
   "cell_type": "code",
   "execution_count": 80,
   "metadata": {},
   "outputs": [
    {
     "ename": "ModuleNotFoundError",
     "evalue": "No module named 'plotly'",
     "output_type": "error",
     "traceback": [
      "\u001b[1;31m---------------------------------------------------------------------------\u001b[0m",
      "\u001b[1;31mModuleNotFoundError\u001b[0m                       Traceback (most recent call last)",
      "\u001b[1;32m<ipython-input-80-c7a267d39ed4>\u001b[0m in \u001b[0;36m<module>\u001b[1;34m()\u001b[0m\n\u001b[1;32m----> 1\u001b[1;33m \u001b[1;32mimport\u001b[0m \u001b[0mplotly\u001b[0m\u001b[1;33m.\u001b[0m\u001b[0mplotly\u001b[0m \u001b[1;32mas\u001b[0m \u001b[0mpy\u001b[0m\u001b[1;33m\u001b[0m\u001b[0m\n\u001b[0m\u001b[0;32m      2\u001b[0m \u001b[1;32mimport\u001b[0m \u001b[0mplotly\u001b[0m\u001b[1;33m.\u001b[0m\u001b[0mgraph_objs\u001b[0m \u001b[1;32mas\u001b[0m \u001b[0mgo\u001b[0m\u001b[1;33m\u001b[0m\u001b[0m\n",
      "\u001b[1;31mModuleNotFoundError\u001b[0m: No module named 'plotly'"
     ]
    }
   ],
   "source": [
    "import plotly.plotly as py\n",
    "import plotly.graph_objs as go"
   ]
  },
  {
   "cell_type": "code",
   "execution_count": 81,
   "metadata": {
    "collapsed": true
   },
   "outputs": [],
   "source": [
    "x_data = cavs['PLAYER']"
   ]
  },
  {
   "cell_type": "code",
   "execution_count": 82,
   "metadata": {},
   "outputs": [
    {
     "data": {
      "text/plain": [
       "0            Kevin_Love\n",
       "1          Derrick_Rose\n",
       "2        isahiah_Thomas\n",
       "3         Iman_Shumpert\n",
       "4              Jr.Smith\n",
       "5         Channing Fyre\n",
       "6          Dwyane _Wade\n",
       "7          Jhon_Holland\n",
       "8      Tristan-Thompson\n",
       "9            Cedi_Osman\n",
       "10         Lebron_James\n",
       "11          Kyle_Korver\n",
       "12           Jeff_Green\n",
       "13           Ante_Zizic\n",
       "14        Jose_Calderon\n",
       "15          Jae_Crowder\n",
       "16           Kevin_Love\n",
       "17         Derrick_Rose\n",
       "18       isahiah_Thomas\n",
       "19        Iman_Shumpert\n",
       "20             Jr.Smith\n",
       "21        Channing Fyre\n",
       "22         Dwyane _Wade\n",
       "23         Jhon_Holland\n",
       "24     Tristan-Thompson\n",
       "25           Cedi_Osman\n",
       "26         Lebron_James\n",
       "27          Kyle_Korver\n",
       "28           Jeff_Green\n",
       "29           Ante_Zizic\n",
       "             ...       \n",
       "226      isahiah_Thomas\n",
       "227       Iman_Shumpert\n",
       "228            Jr.Smith\n",
       "229       Channing Fyre\n",
       "230        Dwyane _Wade\n",
       "231        Jhon_Holland\n",
       "232    Tristan-Thompson\n",
       "233          Cedi_Osman\n",
       "234        Lebron_James\n",
       "235         Kyle_Korver\n",
       "236          Jeff_Green\n",
       "237          Ante_Zizic\n",
       "238       Jose_Calderon\n",
       "239         Jae_Crowder\n",
       "240          Kevin_Love\n",
       "241        Derrick_Rose\n",
       "242      isahiah_Thomas\n",
       "243       Iman_Shumpert\n",
       "244            Jr.Smith\n",
       "245       Channing Fyre\n",
       "246        Dwyane _Wade\n",
       "247        Jhon_Holland\n",
       "248    Tristan-Thompson\n",
       "249          Cedi_Osman\n",
       "250        Lebron_James\n",
       "251         Kyle_Korver\n",
       "252          Jeff_Green\n",
       "253          Ante_Zizic\n",
       "254       Jose_Calderon\n",
       "255         Jae_Crowder\n",
       "Name: PLAYER, Length: 256, dtype: object"
      ]
     },
     "execution_count": 82,
     "metadata": {},
     "output_type": "execute_result"
    }
   ],
   "source": [
    "x_data"
   ]
  },
  {
   "cell_type": "code",
   "execution_count": 83,
   "metadata": {
    "collapsed": true
   },
   "outputs": [],
   "source": [
    "import numpy as np\n",
    "import seaborn as sns\n",
    "import matplotlib.pyplot as plt\n",
    "sns.set(style=\"ticks\")"
   ]
  },
  {
   "cell_type": "code",
   "execution_count": 84,
   "metadata": {},
   "outputs": [
    {
     "ename": "ValueError",
     "evalue": "vlag is not a valid palette name",
     "output_type": "error",
     "traceback": [
      "\u001b[1;31m---------------------------------------------------------------------------\u001b[0m",
      "\u001b[1;31mValueError\u001b[0m                                Traceback (most recent call last)",
      "\u001b[1;32m<ipython-input-84-e409a971e65f>\u001b[0m in \u001b[0;36m<module>\u001b[1;34m()\u001b[0m\n\u001b[0;32m      1\u001b[0m sns.boxplot(x=cavs['PLAYER'], y=cavs['PTS'], data=cavs,\n\u001b[1;32m----> 2\u001b[1;33m             whis=np.inf, palette=\"vlag\")\n\u001b[0m",
      "\u001b[1;32mC:\\Users\\aksha\\AppData\\Local\\Continuum\\Anaconda3\\lib\\site-packages\\seaborn\\categorical.py\u001b[0m in \u001b[0;36mboxplot\u001b[1;34m(x, y, hue, data, order, hue_order, orient, color, palette, saturation, width, fliersize, linewidth, whis, notch, ax, **kwargs)\u001b[0m\n\u001b[0;32m   2173\u001b[0m     plotter = _BoxPlotter(x, y, hue, data, order, hue_order,\n\u001b[0;32m   2174\u001b[0m                           \u001b[0morient\u001b[0m\u001b[1;33m,\u001b[0m \u001b[0mcolor\u001b[0m\u001b[1;33m,\u001b[0m \u001b[0mpalette\u001b[0m\u001b[1;33m,\u001b[0m \u001b[0msaturation\u001b[0m\u001b[1;33m,\u001b[0m\u001b[1;33m\u001b[0m\u001b[0m\n\u001b[1;32m-> 2175\u001b[1;33m                           width, fliersize, linewidth)\n\u001b[0m\u001b[0;32m   2176\u001b[0m \u001b[1;33m\u001b[0m\u001b[0m\n\u001b[0;32m   2177\u001b[0m     \u001b[1;32mif\u001b[0m \u001b[0max\u001b[0m \u001b[1;32mis\u001b[0m \u001b[1;32mNone\u001b[0m\u001b[1;33m:\u001b[0m\u001b[1;33m\u001b[0m\u001b[0m\n",
      "\u001b[1;32mC:\\Users\\aksha\\AppData\\Local\\Continuum\\Anaconda3\\lib\\site-packages\\seaborn\\categorical.py\u001b[0m in \u001b[0;36m__init__\u001b[1;34m(self, x, y, hue, data, order, hue_order, orient, color, palette, saturation, width, fliersize, linewidth)\u001b[0m\n\u001b[0;32m    425\u001b[0m \u001b[1;33m\u001b[0m\u001b[0m\n\u001b[0;32m    426\u001b[0m         \u001b[0mself\u001b[0m\u001b[1;33m.\u001b[0m\u001b[0mestablish_variables\u001b[0m\u001b[1;33m(\u001b[0m\u001b[0mx\u001b[0m\u001b[1;33m,\u001b[0m \u001b[0my\u001b[0m\u001b[1;33m,\u001b[0m \u001b[0mhue\u001b[0m\u001b[1;33m,\u001b[0m \u001b[0mdata\u001b[0m\u001b[1;33m,\u001b[0m \u001b[0morient\u001b[0m\u001b[1;33m,\u001b[0m \u001b[0morder\u001b[0m\u001b[1;33m,\u001b[0m \u001b[0mhue_order\u001b[0m\u001b[1;33m)\u001b[0m\u001b[1;33m\u001b[0m\u001b[0m\n\u001b[1;32m--> 427\u001b[1;33m         \u001b[0mself\u001b[0m\u001b[1;33m.\u001b[0m\u001b[0mestablish_colors\u001b[0m\u001b[1;33m(\u001b[0m\u001b[0mcolor\u001b[0m\u001b[1;33m,\u001b[0m \u001b[0mpalette\u001b[0m\u001b[1;33m,\u001b[0m \u001b[0msaturation\u001b[0m\u001b[1;33m)\u001b[0m\u001b[1;33m\u001b[0m\u001b[0m\n\u001b[0m\u001b[0;32m    428\u001b[0m \u001b[1;33m\u001b[0m\u001b[0m\n\u001b[0;32m    429\u001b[0m         \u001b[0mself\u001b[0m\u001b[1;33m.\u001b[0m\u001b[0mwidth\u001b[0m \u001b[1;33m=\u001b[0m \u001b[0mwidth\u001b[0m\u001b[1;33m\u001b[0m\u001b[0m\n",
      "\u001b[1;32mC:\\Users\\aksha\\AppData\\Local\\Continuum\\Anaconda3\\lib\\site-packages\\seaborn\\categorical.py\u001b[0m in \u001b[0;36mestablish_colors\u001b[1;34m(self, color, palette, saturation)\u001b[0m\n\u001b[0;32m    293\u001b[0m                 \u001b[0mpalette\u001b[0m \u001b[1;33m=\u001b[0m \u001b[1;33m[\u001b[0m\u001b[0mpalette\u001b[0m\u001b[1;33m[\u001b[0m\u001b[0ml\u001b[0m\u001b[1;33m]\u001b[0m \u001b[1;32mfor\u001b[0m \u001b[0ml\u001b[0m \u001b[1;32min\u001b[0m \u001b[0mlevels\u001b[0m\u001b[1;33m]\u001b[0m\u001b[1;33m\u001b[0m\u001b[0m\n\u001b[0;32m    294\u001b[0m \u001b[1;33m\u001b[0m\u001b[0m\n\u001b[1;32m--> 295\u001b[1;33m             \u001b[0mcolors\u001b[0m \u001b[1;33m=\u001b[0m \u001b[0mcolor_palette\u001b[0m\u001b[1;33m(\u001b[0m\u001b[0mpalette\u001b[0m\u001b[1;33m,\u001b[0m \u001b[0mn_colors\u001b[0m\u001b[1;33m)\u001b[0m\u001b[1;33m\u001b[0m\u001b[0m\n\u001b[0m\u001b[0;32m    296\u001b[0m \u001b[1;33m\u001b[0m\u001b[0m\n\u001b[0;32m    297\u001b[0m         \u001b[1;31m# Desaturate a bit because these are patches\u001b[0m\u001b[1;33m\u001b[0m\u001b[1;33m\u001b[0m\u001b[0m\n",
      "\u001b[1;32mC:\\Users\\aksha\\AppData\\Local\\Continuum\\Anaconda3\\lib\\site-packages\\seaborn\\palettes.py\u001b[0m in \u001b[0;36mcolor_palette\u001b[1;34m(palette, n_colors, desat)\u001b[0m\n\u001b[0;32m    178\u001b[0m             \u001b[0mpalette\u001b[0m \u001b[1;33m=\u001b[0m \u001b[0mmpl_palette\u001b[0m\u001b[1;33m(\u001b[0m\u001b[0mpalette\u001b[0m\u001b[1;33m,\u001b[0m \u001b[0mn_colors\u001b[0m\u001b[1;33m)\u001b[0m\u001b[1;33m\u001b[0m\u001b[0m\n\u001b[0;32m    179\u001b[0m         \u001b[1;32melse\u001b[0m\u001b[1;33m:\u001b[0m\u001b[1;33m\u001b[0m\u001b[0m\n\u001b[1;32m--> 180\u001b[1;33m             \u001b[1;32mraise\u001b[0m \u001b[0mValueError\u001b[0m\u001b[1;33m(\u001b[0m\u001b[1;34m\"%s is not a valid palette name\"\u001b[0m \u001b[1;33m%\u001b[0m \u001b[0mpalette\u001b[0m\u001b[1;33m)\u001b[0m\u001b[1;33m\u001b[0m\u001b[0m\n\u001b[0m\u001b[0;32m    181\u001b[0m \u001b[1;33m\u001b[0m\u001b[0m\n\u001b[0;32m    182\u001b[0m     \u001b[1;32mif\u001b[0m \u001b[0mdesat\u001b[0m \u001b[1;32mis\u001b[0m \u001b[1;32mnot\u001b[0m \u001b[1;32mNone\u001b[0m\u001b[1;33m:\u001b[0m\u001b[1;33m\u001b[0m\u001b[0m\n",
      "\u001b[1;31mValueError\u001b[0m: vlag is not a valid palette name"
     ]
    }
   ],
   "source": [
    "sns.boxplot(x=cavs['PLAYER'], y=cavs['PTS'], data=cavs,\n",
    "            whis=np.inf, palette=\"vlag\")"
   ]
  },
  {
   "cell_type": "code",
   "execution_count": null,
   "metadata": {
    "collapsed": true
   },
   "outputs": [],
   "source": []
  }
 ],
 "metadata": {
  "kernelspec": {
   "display_name": "Python 3",
   "language": "python",
   "name": "python3"
  },
  "language_info": {
   "codemirror_mode": {
    "name": "ipython",
    "version": 3
   },
   "file_extension": ".py",
   "mimetype": "text/x-python",
   "name": "python",
   "nbconvert_exporter": "python",
   "pygments_lexer": "ipython3",
   "version": "3.6.1"
  }
 },
 "nbformat": 4,
 "nbformat_minor": 2
}
